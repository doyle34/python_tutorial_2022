{
 "cells": [
  {
   "cell_type": "markdown",
   "metadata": {},
   "source": [
    "# 함수\n",
    "\n",
    "## 함수가 뭐냐면\n",
    "\n",
    "우선 수학에서 쓰는 함수를 생각해봅시다. 잠시 급식 시절로 되돌아가서\n",
    "\n",
    "$f(x) = x + 4$ 라는 함수에서 x에 4를 대입하면 결과값은 $f(4) = 8$이 됩니다.\n",
    "\n",
    "$\\sin{x}$ 같은 삼각함수에 $\\pi/2$ 를 대입하면 $\\sin{\\pi/2} = 1$이 됩니다.\n",
    "\n",
    "수학에서 쓰는 함수는 정해진 공식대로 입력값을 계산하여 출력합니다. 프로그래밍 세계에서의 함수도 마찬가지로\n",
    "\n",
    "1. 특정한 입력을 받고\n",
    "2. 어떤 일을 수행하고\n",
    "3. 그에 따른 결과물을 내뱉습니다.\n",
    "\n",
    "이미 수없이 써 왔던 ```print()```, ```len()```, ```str.split()``` 같은 것들이 다 함수입니다.\n",
    "\n",
    "대부분의 프로그래밍 언어에서 함수는 항상 ```함수명()``` 같은 식으로 소괄호()를 붙여 표기하고, 그 소괄호 안에 입력값을 넣을 수 있습니다.\n",
    "\n",
    "## 함수가 왜 필요하냐면\n",
    "\n",
    "함수는 특정 기능을 여러 번 반복하고 싶을 때 유용합니다. 우리가 계속 써왔던 파이썬 내장 함수들처럼 프로그램에서 자주 쓰이는 기능들을 묶어 함수화시키면\n",
    "코드와 가독성과 재사용성이 높아집니다.\n",
    "\n",
    "따라서 함수의 장점으로는\n",
    "1. 이 코드가 뭘 하는지 직관적으로 알 수 있다 (함수 이름을 보고)\n",
    "2. 코드를 재활용할 수 있다. (나 그리고 다른 사람들이)\n",
    "\n",
    "정도가 있겠습니다."
   ]
  },
  {
   "cell_type": "markdown",
   "metadata": {},
   "source": [
    "## 파이썬 함수: ```def```\n",
    "\n",
    "파이썬에서 함수를 만드는 방법은 다음과 같습니다.\n",
    "\n",
    "```\n",
    "def 함수명():\n",
    "    이 함수가 하는 일들\n",
    "    return 결과값\n",
    "```\n",
    "\n",
    "함수명은 '이 함수가 무슨 일을 하는지'를 직관적으로 알 수 있어야 합니다. 가령 앞에서 예시로 든 점심 메뉴 정하기 코드는"
   ]
  },
  {
   "cell_type": "code",
   "execution_count": 1,
   "metadata": {},
   "outputs": [
    {
     "name": "stdout",
     "output_type": "stream",
     "text": [
      "차돌짬뽕\n"
     ]
    }
   ],
   "source": [
    "budget = 10000\n",
    "if budget < 3000:\n",
    "    dinner_menu = '삼각김밥'\n",
    "elif budget < 6000:\n",
    "    dinner_menu = '도시락'\n",
    "elif budget < 10000:\n",
    "    dinner_menu = '제육덮밥'\n",
    "elif budget < 20000:\n",
    "    dinner_menu = '차돌짬뽕'\n",
    "else:\n",
    "    dinner_menu = '치킨'\n",
    "\n",
    "print(dinner_menu)"
   ]
  },
  {
   "cell_type": "markdown",
   "metadata": {},
   "source": [
    "결과값 한 줄을 얻기 위해 굉장히 많은 코드를 작성해야 합니다. 이걸 함수화시켜서 점심 예산을 입력하면 메뉴를 골라주는 함수를 하나 만들어봅시다."
   ]
  },
  {
   "cell_type": "code",
   "execution_count": 2,
   "metadata": {},
   "outputs": [],
   "source": [
    "def select_lunch(budget):\n",
    "    if budget < 3000: dinner_menu = '삼각김밥'\n",
    "    elif budget < 6000: dinner_menu = '도시락'\n",
    "    elif budget < 10000: dinner_menu = '제육덮밥'\n",
    "    elif budget < 20000: dinner_menu = '차돌짬뽕'\n",
    "    else: dinner_menu = '치킨'\n",
    "\n",
    "    return dinner_menu"
   ]
  },
  {
   "cell_type": "markdown",
   "metadata": {},
   "source": [
    "위 예시에서 ```select_lunch ```는 함수의 이름이고 ```budget```은 함수의 입력값입니다. 함수의 입력값을 **매개변수parameter**라고 합니다.\n",
    "\n",
    "제일 마지막 줄에서는 ```dinner_menu```를 ```return```하고 있습니다. 이게 함수의 결과값이고 함수가 ```dinner_menu```를 **반환return**한다고 표현합니다.\n",
    "이 함수를 사용하려면"
   ]
  },
  {
   "cell_type": "code",
   "execution_count": 3,
   "metadata": {},
   "outputs": [
    {
     "name": "stdout",
     "output_type": "stream",
     "text": [
      "차돌짬뽕\n"
     ]
    }
   ],
   "source": [
    "todays_lunch = select_lunch(10000)\n",
    "print(todays_lunch)"
   ]
  },
  {
   "cell_type": "markdown",
   "metadata": {},
   "source": [
    "와 같이 사용할 수 있습니다. 언제든지 점심 메뉴가 필요하면 위 함수를 호출(call)하면 되겠습니다.\n",
    "이 때, 함수의 정의에서 ```budget```자리가 있던 곳에 숫자 10000을 넣었습니다. 함수를 호출할 때 매개변수 자리에 넣는 변수(혹은 상수)를 **인자argument**라고 합니다.\n",
    "\n",
    "> 함수는 반드시 먼저 선언(정의)되고 호출되어야 합니다. 호출이란 프로그램에서 함수를 갖다 쓴다는 뜻입니다."
   ]
  },
  {
   "cell_type": "markdown",
   "metadata": {},
   "source": [
    "함수에는 여러가지 바리에이션이 있을 수 있는데,\n",
    "\n",
    "* return이 없는 함수"
   ]
  },
  {
   "cell_type": "code",
   "execution_count": 4,
   "metadata": {},
   "outputs": [
    {
     "name": "stdout",
     "output_type": "stream",
     "text": [
      "따봉도치야 고마워~\n"
     ]
    }
   ],
   "source": [
    "def thank_you(name):\n",
    "    print(f'{name}야 고마워~')\n",
    "\n",
    "thank_you('따봉도치')"
   ]
  },
  {
   "cell_type": "markdown",
   "metadata": {},
   "source": [
    "* return이 여러 개인 함수\n",
    "\n",
    "사실은 return이 여러개가 아니라, 여러 값을 하나의 튜플로 묶어서 return해 주는 거임"
   ]
  },
  {
   "cell_type": "code",
   "execution_count": 5,
   "metadata": {},
   "outputs": [
    {
     "name": "stdout",
     "output_type": "stream",
     "text": [
      "('욱개장', '나랑드사이다')\n"
     ]
    }
   ],
   "source": [
    "def select_food_and_drink(budget):\n",
    "    if budget < 3500:\n",
    "        return '욱개장', '나랑드사이다'\n",
    "    else:\n",
    "        return '진짬뽕', '펩시제로라임'\n",
    "\n",
    "lunch_set = select_food_and_drink(3000)\n",
    "print(lunch_set)"
   ]
  },
  {
   "cell_type": "markdown",
   "metadata": {},
   "source": [
    "* return은 있는데 반환값이 없는 함수\n",
    "\n",
    "```return```은 사실 함수를 빠져나오는 명령어라서 ```break```처럼 쓸 수 있음"
   ]
  },
  {
   "cell_type": "code",
   "execution_count": 6,
   "metadata": {},
   "outputs": [],
   "source": [
    "def optional_thank_you(name, option):\n",
    "    if option == False:\n",
    "        return\n",
    "    print(f'{name}야 고마워~')\n",
    "    \n",
    "\n",
    "optional_thank_you('엄준식', False) # 아무것도안함"
   ]
  },
  {
   "cell_type": "markdown",
   "metadata": {},
   "source": [
    "* parameter가 없는 함수"
   ]
  },
  {
   "cell_type": "code",
   "execution_count": 7,
   "metadata": {},
   "outputs": [
    {
     "name": "stdout",
     "output_type": "stream",
     "text": [
      "13\n"
     ]
    }
   ],
   "source": [
    "def get_thirteen():\n",
    "    return 13\n",
    "\n",
    "num = get_thirteen() # 예시일 뿐입니다\n",
    "print(num)"
   ]
  },
  {
   "cell_type": "markdown",
   "metadata": {},
   "source": [
    "* 둘 다 없는 함수"
   ]
  },
  {
   "cell_type": "code",
   "execution_count": 8,
   "metadata": {},
   "outputs": [
    {
     "name": "stdout",
     "output_type": "stream",
     "text": [
      "Hello\n"
     ]
    }
   ],
   "source": [
    "def say_hello():\n",
    "    print(\"Hello\")\n",
    "\n",
    "say_hello()"
   ]
  },
  {
   "cell_type": "markdown",
   "metadata": {},
   "source": [
    "매개변수를 지정할 수도 있습니다."
   ]
  },
  {
   "cell_type": "code",
   "execution_count": 9,
   "metadata": {},
   "outputs": [
    {
     "name": "stdout",
     "output_type": "stream",
     "text": [
      "10\n"
     ]
    }
   ],
   "source": [
    "def add(a, b):\n",
    "    return a + b\n",
    "\n",
    "c = add(a = 3, b = 7) # 매개변수 지정\n",
    "print(c)"
   ]
  },
  {
   "cell_type": "markdown",
   "metadata": {},
   "source": [
    "매개변수의 초기값을 지정할 수도 있습니다. 다만 초기화하고 싶은 매개변수는 항상 함수 선언시 제일 뒤쪽에 위치해야 합니다."
   ]
  },
  {
   "cell_type": "code",
   "execution_count": 10,
   "metadata": {},
   "outputs": [
    {
     "name": "stdout",
     "output_type": "stream",
     "text": [
      "제 이름은 코난, 탐정이죠 \n",
      "제 이름은 너굴맨, 라쿤이죠 (사람아님)\n"
     ]
    }
   ],
   "source": [
    "def introduce_myself(name, job, is_human=True):\n",
    "    print(f'제 이름은 {name}, {job}이죠', end=' ')\n",
    "    if is_human: print()\n",
    "    else: print('(사람아님)')\n",
    "\n",
    "introduce_myself('코난', '탐정')\n",
    "introduce_myself('너굴맨', '라쿤', False)"
   ]
  },
  {
   "cell_type": "markdown",
   "metadata": {},
   "source": [
    "### 배경지식: 함수 안에 변수있어요\n",
    "\n",
    "**함수 안에서 선언한 변수는 함수 안에서만 유효합니다.** 아래 예시에서 함수 안의 a와 함수 밖의 a는 다른 변수입니다. 함수 안의 변수 a에 1을 더해도 함수 밖의 변수 a는 그대로입니다."
   ]
  },
  {
   "cell_type": "code",
   "execution_count": 11,
   "metadata": {},
   "outputs": [
    {
     "name": "stdout",
     "output_type": "stream",
     "text": [
      "1\n"
     ]
    }
   ],
   "source": [
    "def var_test(a):\n",
    "    a += 1 # 함수 안 변수\n",
    "\n",
    "a = 1 # 함수 밖 변수\n",
    "var_test(a) # a에 1을 더해주세요\n",
    "print(a) # 응 아니야"
   ]
  },
  {
   "cell_type": "markdown",
   "metadata": {},
   "source": [
    "이걸 정확히 이해하려면 메모리의 주소와 값, C계열 언어의 개념인 call by value와 Call by reference의 차이를 이해해야 합니다. 근데 너무 길어질 것 같아서 간단히 요약하면\n",
    "\n",
    "  * 숫자, 문자열 같은 불변(immutable) 타입 변수가 함수 인자로 들어오면, 함수 안에서 무슨 짓을 해도 함수 밖 변수에 영향이 없음\n",
    "  * 리스트, 딕셔너리 같은 가변(mutable) 타입 변수가 함수 인자로 들어오면\n",
    "    * 함수 안에서 변수를 수정하면 함수 밖 변수에 영향이 있음\n",
    "    * 함수 안에서 변수를 새로 할당하면 함수 밖 변수에 영향이 없음\n",
    "\n",
    "[Stack Overflow: How do I pass a variable by reference?](https://stackoverflow.com/questions/986006/how-do-i-pass-a-variable-by-reference)\n",
    "\n",
    "파이썬은 쉬운 언어라 이거 몰라도 당분간은 지장없음"
   ]
  },
  {
   "cell_type": "code",
   "execution_count": 12,
   "metadata": {},
   "outputs": [
    {
     "name": "stdout",
     "output_type": "stream",
     "text": [
      "1\n",
      "[1, 2, 3, 'New Elem']\n",
      "[1, 2, 3, 'New Elem']\n"
     ]
    }
   ],
   "source": [
    "def int_param_test(a):\n",
    "    a += 1\n",
    "\n",
    "def list_param_test_1(list):\n",
    "    list.append('New Elem') # list 매개변수를 수정하는건 가능\n",
    "\n",
    "\n",
    "def list_param_test_2(list):\n",
    "    list = ['New List'] # list 매개변수에 새로운 값을 할당하는건 불가능\n",
    "\n",
    "a_outer = 1\n",
    "list_outer = [1, 2, 3]\n",
    "\n",
    "int_param_test(a)\n",
    "print(a)\n",
    "\n",
    "list_param_test_1(list_outer)\n",
    "print(list_outer)\n",
    "\n",
    "list_param_test_2(list_outer)\n",
    "print(list_outer)"
   ]
  },
  {
   "cell_type": "markdown",
   "metadata": {},
   "source": [
    "### 심화: ```*args```, ```**kwargs```\n",
    "\n",
    "만약 함수에 여러 인자를 받고 싶은데, 그 크기가 정해지지 않았다면 어떻게 해야 할까요? 다음 예시에서 ```*args``` (arguments) 자리에 들어온 매개변수들은 모두 튜플로 묶이게 됩니다. 주목할 점은 *입력값이 튜플이 아닌데 튜플로 변환된다는 것* 입니다."
   ]
  },
  {
   "cell_type": "code",
   "execution_count": 13,
   "metadata": {},
   "outputs": [
    {
     "name": "stdout",
     "output_type": "stream",
     "text": [
      "19\n",
      "18\n"
     ]
    }
   ],
   "source": [
    "def add(*args):\n",
    "    result = 0\n",
    "    for i in args: # args는 튜플이니까\n",
    "        result += i\n",
    "    return result\n",
    "\n",
    "print(add(4, 1, 2, 4, 8))\n",
    "print(add(5, 10, 3))"
   ]
  },
  {
   "cell_type": "markdown",
   "metadata": {},
   "source": [
    "또한 다음 예시에서 ```**kwargs``` (keyword arguments) 자리에 들어온 매개변수들은 모두 딕셔너리로 묶이게 됩니다. 이떄 입력값은 ```key=value``` 형식으로 입력하면 되는데 key가 리터럴이면 안됩니다. 역시 입력값이 딕셔너리가 아닌데 딕셔너리로 변환됩니다.\n",
    "\n",
    "> 이름이 꼭 ```*args```, ```**kwargs```일 필요는 없습니다. 근데 국룰임"
   ]
  },
  {
   "cell_type": "code",
   "execution_count": 14,
   "metadata": {},
   "outputs": [
    {
     "name": "stdout",
     "output_type": "stream",
     "text": [
      "steak: 40000원\n",
      "drink: 4000원\n",
      "pasta: 13000원\n",
      "총 57000원 입니다\n"
     ]
    }
   ],
   "source": [
    "def print_receipt(**kwargs):\n",
    "    sum = 0\n",
    "    for key, value in kwargs.items(): # kwargs는 딕셔너리니까\n",
    "        print(f'{key}: {value}원')\n",
    "        sum += value\n",
    "    \n",
    "    print(f'총 {sum}원 입니다')\n",
    "\n",
    "print_receipt(steak=40000, drink=4000, pasta=13000)\n"
   ]
  },
  {
   "cell_type": "markdown",
   "metadata": {},
   "source": [
    "# 클래스\n",
    "\n",
    "## 클래스가 뭐냐면\n",
    "\n",
    "클래스(class)란 사용자 정의 자료형(user-defined data type)입니다. 앞서 본 정수, 문자열, 리스트 같은 자료형 모두 클래스의 일종이라고 볼 수 있습니다. 이들은 프로그래밍 언어 자체에서 기본적으로 지원하는 클래스일 뿐입니다.\n",
    "\n",
    "## 클래스가 왜 필요하냐면\n",
    "\n",
    "만약 여러 사람의 인적 정보를 담아두고 사용해야 할 필요가 있다고 합시다. 다음과 같이 사람의 특징을 나타내는 여러 변수들이 있을 것이고, 사람의 행동을 나타내는 여러 함수들도 있을 것입니다."
   ]
  },
  {
   "cell_type": "code",
   "execution_count": 15,
   "metadata": {},
   "outputs": [],
   "source": [
    "name = '박동인'\n",
    "age = 25\n",
    "hobby_list = ['롤', '기타치기', '자전거타기']\n",
    "gender = 'Male'\n",
    "address = '서울특별시 관악구 관악로 1'\n",
    "is_married = False\n",
    "\n",
    "def run(): # 사람이 달리는걸 표현\n",
    "    print(\"달리기 시작\")\n",
    "\n",
    "def work(time): # 사람이 일하는걸 표현\n",
    "    print(f\"{time}시간 일하자\")"
   ]
  },
  {
   "cell_type": "markdown",
   "metadata": {},
   "source": [
    "만약 또다른 사람의 인적 정보를 담으려면, ```name_2, age_2, ...```등과 같이 엄청나게 많은 새로운 변수가 필요할 것입니다.\n",
    "\n",
    "그렇다면 차라리 '사람'이라는 새로운 자료형을 만들고 그 안에 인적 정보를 담으면 어떨까요?"
   ]
  },
  {
   "cell_type": "markdown",
   "metadata": {},
   "source": [
    "## 클래스 예시\n",
    "\n",
    "클래스를 사용하면 이렇게 간단하게 사람이 가지는 여러 속성을 요약할 수 있습니다."
   ]
  },
  {
   "cell_type": "code",
   "execution_count": 16,
   "metadata": {},
   "outputs": [],
   "source": [
    "class Person:\n",
    "    def __init__(self, name, age, gender, address='관악로 1', hobby_list=[], is_married=False): # 얘도 함수임\n",
    "        self.name = name\n",
    "        self.age = age\n",
    "        self.gender = gender\n",
    "        self.address = address\n",
    "        self.hobby_list = hobby_list\n",
    "        self.is_married = is_married\n",
    "\n",
    "    def run(self):\n",
    "        print(f'{self.name} 달리기 시작')\n",
    "\n",
    "\n",
    "    def work(self, time):\n",
    "        print(f'{self.name} {time}시간 일 시작')\n",
    "\n",
    "\n"
   ]
  },
  {
   "cell_type": "markdown",
   "metadata": {},
   "source": [
    "* ```__init__()```: ```Person```이라는 클래스의 변수(객체)를 만들기 위해 필요한 생성자(Constructor). 객체를 초기화(initialize)할 떄 호출되는 함수\n",
    "* ```self.name``` 등: 사람이라는 클래스가 공통적으로 가지는 속성(attribute)\n",
    "* ```run(self), work(self, time)```: 사람이라는 클래스가 공통적으로 수행하는 함수. 메서드(method)라고 부름"
   ]
  },
  {
   "cell_type": "markdown",
   "metadata": {},
   "source": [
    "이제 ```Person```은 새로운 자료형입니다. 정수, 문자열, 리스트처럼 ```Person```형 변수를 하나 생성(초기화)할 수 있습니다. 이렇게 생성한 변수를 흔히 **객체object**라고 합니다. 앞서 기본 자료형을 담았던 변수들도 다 객체라고 할 수 있습니다. 이런 변수나 객체를 특정 클래스의 **인스턴스instance**라고 하기도 합니다."
   ]
  },
  {
   "cell_type": "code",
   "execution_count": 17,
   "metadata": {},
   "outputs": [
    {
     "name": "stdout",
     "output_type": "stream",
     "text": [
      "박동인\n",
      "관악로 1\n",
      "박동인 달리기 시작\n",
      "박동인 10시간 일 시작\n"
     ]
    }
   ],
   "source": [
    "doyle = Person(name='박동인', age=25, gender='Male') # Person class의 객체(혹은 인스턴스) doyle이 생성됨\n",
    "\n",
    "print(doyle.name) # 객체 속 변수(속성, attribute)에 접근하려면 .(점)\n",
    "print(doyle.address) # 주소는 초기화하지 않았지만, __init()__함수에 파라미터 기본값이 있음\n",
    "doyle.run() # 객체 속 함수(메소드, method)에 접근하려면 .(점)\n",
    "doyle.work(10)"
   ]
  },
  {
   "cell_type": "markdown",
   "metadata": {},
   "source": [
    "여러분들이 지금까지 봐온 모든 자료형은 위 예시의 ```Person```처럼 클래스이며, ```Person```처럼 클래스의 변수(속성)와 함수(메소드)를 가지고 있습니다.\n",
    "예를 들면 리스트 자료형의 ```append()```나 문자열의 ```split()``` 은 전부 클래스 메소드입니다."
   ]
  },
  {
   "cell_type": "code",
   "execution_count": 18,
   "metadata": {},
   "outputs": [
    {
     "name": "stdout",
     "output_type": "stream",
     "text": [
      "[1, 2, 3, 4, 5, 6]\n",
      "['야', '호']\n"
     ]
    }
   ],
   "source": [
    "list = [1, 2, 3, 4, 5]\n",
    "list.append(6) # 이제 왜 .(점)이 붙는지 이해 가능!\n",
    "print(list)\n",
    "text = '야 호'\n",
    "print(text.split(' '))"
   ]
  },
  {
   "cell_type": "markdown",
   "metadata": {},
   "source": [
    "# 모듈과 패키지\n",
    "\n",
    "모듈은 변수, 함수, 그리고 클래스들을 모아 놓은 파일입니다. 그리고 패키지는 단순히 여러 모듈의 집합입니다. 그냥 패키지가 조금 더 큰 집합이라고 생각하시면 됩니다.\n",
    "\n",
    " 예를 들면 ```math```라는 모듈에는 수학 계산을 위한 각종 변수와 함수들이 있습니다. 코드에서 모듈을 사용하려면 ```import```를 사용합니다."
   ]
  },
  {
   "cell_type": "code",
   "execution_count": 19,
   "metadata": {},
   "outputs": [
    {
     "name": "stdout",
     "output_type": "stream",
     "text": [
      "1.0\n"
     ]
    }
   ],
   "source": [
    "import math # 모듈이 어떻게 정의되었는지 궁금하면 F12를 눌러보세요\n",
    "\n",
    "pi = math.pi # 원주율 값\n",
    "print(math.sin(pi/2))"
   ]
  },
  {
   "cell_type": "markdown",
   "metadata": {},
   "source": [
    "어떤 모듈에서 특정 함수나 변수만을 쓰고 싶으면, ```from ~ import ~```처럼 사용합니다."
   ]
  },
  {
   "cell_type": "code",
   "execution_count": 20,
   "metadata": {},
   "outputs": [
    {
     "name": "stdout",
     "output_type": "stream",
     "text": [
      "-1.0\n",
      "1.0\n"
     ]
    }
   ],
   "source": [
    "from math import pi, cos, exp\n",
    "\n",
    "print(cos(pi)) # 이제 math.cos(), math.pi 라고 안 적어도 됨!\n",
    "print(exp(0))"
   ]
  },
  {
   "cell_type": "markdown",
   "metadata": {},
   "source": [
    "모듈/패키지를 불러오고 싶은데 모듈 이름이 너무 길 때가 있습니다. 그럴떄는 ```import ~ as ~```처럼 불러옵니다."
   ]
  },
  {
   "cell_type": "code",
   "execution_count": 21,
   "metadata": {},
   "outputs": [],
   "source": [
    "import numpy as np\n",
    "import pandas as pd\n",
    "import matplotlib.pyplot as plt # matplotlib 패키지 속의 pyplot 모듈\n",
    "# 앞으로 계속 보게 될 3개의 패키지와 모듈"
   ]
  },
  {
   "cell_type": "markdown",
   "metadata": {},
   "source": [
    "# 파일 입출력\n",
    "\n",
    "파일 입출력을 아주 간단히 알아보겠습니다.\n",
    "\n",
    "사실 ```pd.read_csv()``` 같은 함수를 주로 쓸 텐데, 그래도 텍스트 입출력 기본만 알고 갑시다\n",
    "\n",
    "어쩔넘파이 저쩔판다스"
   ]
  },
  {
   "cell_type": "markdown",
   "metadata": {},
   "source": [
    "현재 디렉토리에 새로운 파일을 생성하고 열어봅시다."
   ]
  },
  {
   "cell_type": "code",
   "execution_count": 22,
   "metadata": {},
   "outputs": [],
   "source": [
    "f = open('hanhwa.txt', 'w') # 파일 열기. 'w': write, 'r': read, 'a': append\n",
    "\n",
    "# 파일에 입력: f.write()\n",
    "for i in range(3): f.write('나는 행복합니다\\n')\n",
    "f.write('이글스라 행복합니다\\n')\n",
    "\n",
    "f.close() # 파일 닫기."
   ]
  },
  {
   "cell_type": "markdown",
   "metadata": {},
   "source": [
    "> 파일 경로를 표시할 때는 슬래시(/)로 폴더를 구분해야 합니다. 만약 역슬래시(\\ 혹은 원 기호)로 폴더를 구분하려면 역슬래시 2개(\\\\)가 필요합니다.\n",
    "\n",
    "이번엔 아까 작성한 파일을 다시 열어봅시다."
   ]
  },
  {
   "cell_type": "code",
   "execution_count": 23,
   "metadata": {},
   "outputs": [
    {
     "name": "stdout",
     "output_type": "stream",
     "text": [
      "나는 행복합니다\n",
      "나는 행복합니다\n",
      "나는 행복합니다\n",
      "이글스라 행복합니다\n"
     ]
    }
   ],
   "source": [
    "f = open('hanhwa.txt', 'r')\n",
    "\n",
    "# 파일에서 한 줄씩 읽기: readline()\n",
    "line = f.readline()\n",
    "print(line, end='')  # line을 읽으면 \\n문자까지 같이 읽음\n",
    "\n",
    "# 파일이 끝날 때 까지 반복하여 읽기\n",
    "while True:\n",
    "    line = f.readline()\n",
    "    if not line: break\n",
    "    print(line, end='') \n",
    "\n",
    "f.close()\n"
   ]
  },
  {
   "cell_type": "markdown",
   "metadata": {},
   "source": [
    "파일 입출력을 할 때는 위와 같이 항상 open과 close를 해야 하는데, 이는 상당히 불편합니다. 그래서 다음과 같이 ```with```를 사용하면 편합니다."
   ]
  },
  {
   "cell_type": "code",
   "execution_count": 24,
   "metadata": {},
   "outputs": [],
   "source": [
    "with open('hanhwa.txt', 'a') as f: # 이번엔 append 모드\n",
    "    f.write('\\n')\n",
    "    for i in range(3): f.write('나는 행복합니다\\n')\n",
    "    f.write('한화라서 행복합니다\\n')\n"
   ]
  },
  {
   "cell_type": "markdown",
   "metadata": {},
   "source": [
    "이제 hanhwa.txt 파일에 한화이글스 응원가가 완성된 것을 보실 수 있습니다."
   ]
  }
 ],
 "metadata": {
  "kernelspec": {
   "display_name": "Python 3.8.5 ('base')",
   "language": "python",
   "name": "python3"
  },
  "language_info": {
   "codemirror_mode": {
    "name": "ipython",
    "version": 3
   },
   "file_extension": ".py",
   "mimetype": "text/x-python",
   "name": "python",
   "nbconvert_exporter": "python",
   "pygments_lexer": "ipython3",
   "version": "3.8.5"
  },
  "orig_nbformat": 4,
  "vscode": {
   "interpreter": {
    "hash": "ad2bdc8ecc057115af97d19610ffacc2b4e99fae6737bb82f5d7fb13d2f2c186"
   }
  }
 },
 "nbformat": 4,
 "nbformat_minor": 2
}
