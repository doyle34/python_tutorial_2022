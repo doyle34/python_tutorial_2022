{
 "cells": [
  {
   "cell_type": "markdown",
   "metadata": {},
   "source": [
    "# 제어문\n",
    "\n",
    "제어문이란 프로그램의 흐름을 제어하는 코드 블록을 의미합니다. 대표적으로 조건문과 반복문이 있습니다.\n",
    "\n",
    "## 조건문 (if)\n",
    "\n",
    "조건문은 조건에 따라 코드를 실행하는 구문을 통칭합니다. 대부분의 프로그래밍 언어에 포함되어 있는 if문이 대표적입니다.\n",
    "if문은 기본적으로 '만약 A이면 ~~하고, A가 아니면 ~~해라 라는 구조를 가집니다. 예를 들면 현실에서 점심 식사 방법을 정할 때,\n",
    "```\n",
    "<점심 고르기>\n",
    "오늘 학식이 맛있는가?\n",
    "    예: 학식\n",
    "    아니요:\n",
    "    예산이 충분한가?\n",
    "        예: 배달\n",
    "        아니요:\n",
    "        봉구스밥버거 대기열이 10명 이상인가?\n",
    "            예: 편의점\n",
    "            아니요: 봉구스\n",
    "<점심 고르기 끝>\n",
    "\n",
    "```\n",
    "같이 조건을 따지고 그에 따른 선택을 하는 경우를 if문으로 구현할 수 있습니다.\n",
    "\n",
    "기본적인 if문 문법은 다음과 같습니다. if와 else 줄 제일 뒤에는 반드시 :(콜론)을 붙여야 하고, if와 else 내의 코드 블록은 반드시 4칸 띄어쓰기(Tab 한번)를 해야 합니다.\n",
    "\n",
    "```\n",
    "if 조건문:\n",
    "    조건이 참일 경우 실행\n",
    "    \n",
    "else:\n",
    "    조건이 거짓일 경우 실행\n",
    "```\n",
    "\n",
    "조건문에는 앞서 자료형에서 배운 비교 연산자와 같이 boolean value(```True```나 ```False```)를 판단할 수 있는 식이 들어오게 됩니다."
   ]
  },
  {
   "cell_type": "code",
   "execution_count": 1,
   "metadata": {},
   "outputs": [
    {
     "name": "stdout",
     "output_type": "stream",
     "text": [
      "x is bigger than 10\n",
      "5 10\n"
     ]
    }
   ],
   "source": [
    "x = 15\n",
    "\n",
    "if x > 10:\n",
    "    print(\"x is bigger than 10\")\n",
    "else:\n",
    "    print('x is smaller than 10')\n",
    "\n",
    "a = 5\n",
    "b = 10\n",
    "\n",
    "if a < 5 and b == 10:\n",
    "    a += 5\n",
    "    print(a, b)\n",
    "else:\n",
    "    print(a, b)"
   ]
  },
  {
   "cell_type": "markdown",
   "metadata": {},
   "source": [
    "여러가지 기본 자료형은 불리언 자료형으로 변환될 수 있으니 이런 것도 가능합니다. 또한 if 문 안의 ```pass```는 아무 것도 실행하지 않고 넘어가라는 뜻입니다."
   ]
  },
  {
   "cell_type": "code",
   "execution_count": 2,
   "metadata": {},
   "outputs": [],
   "source": [
    "x = 0\n",
    "\n",
    "if x: # False\n",
    "    print(x)\n",
    "else:\n",
    "    pass # 아무것도 안하기\n",
    "    # 사실 아무것도 안할거면 else를 안써도 됨\n",
    "\n"
   ]
  },
  {
   "cell_type": "markdown",
   "metadata": {},
   "source": [
    "리스트나 튜플 안에 특정 요소가 존재하는지를 알고 싶으면 ```in``` 구분을 사용하면 됩니다."
   ]
  },
  {
   "cell_type": "code",
   "execution_count": 3,
   "metadata": {},
   "outputs": [
    {
     "name": "stdout",
     "output_type": "stream",
     "text": [
      "C is in list\n",
      "I'm Ironman\n"
     ]
    }
   ],
   "source": [
    "list = ['C', 'C++', 'Python']\n",
    "\n",
    "if 'C' in list:\n",
    "    print(\"C is in list\")\n",
    "else:\n",
    "    print(\"'C' is not in list\")\n",
    "\n",
    "text = \"I'm Batman\"\n",
    "\n",
    "if 'Batman' in text:\n",
    "    print(\"I'm Ironman\")\n",
    "\n"
   ]
  },
  {
   "cell_type": "markdown",
   "metadata": {},
   "source": [
    "if 문을 여러 번 중첩할 수 있습니다. 처음에 들었던 예시처럼"
   ]
  },
  {
   "cell_type": "code",
   "execution_count": 4,
   "metadata": {},
   "outputs": [
    {
     "name": "stdout",
     "output_type": "stream",
     "text": [
      "오늘도 편의점이네\n"
     ]
    }
   ],
   "source": [
    "is_school_meal_yummy = False\n",
    "budget = 5000\n",
    "bongousse_queue = 15\n",
    "\n",
    "if is_school_meal_yummy:\n",
    "    print(\"오늘은 학식이다\")\n",
    "else:\n",
    "    if budget > 10000:\n",
    "        print(\"오늘은 배달이다\")\n",
    "    else:\n",
    "        if bongousse_queue < 10:\n",
    "            print(\"봉구스 사람없음 개꿀\")\n",
    "        else:\n",
    "            print(\"오늘도 편의점이네\")"
   ]
  },
  {
   "cell_type": "markdown",
   "metadata": {},
   "source": [
    "여러 가지 조건을 사용하고 싶다면, ```elif``` 구문을 사용하면 됩니다. 그리고 if문 안의 코드 블록이 한 줄이라면 그냥 콜론 뒤에 붙여도 됨"
   ]
  },
  {
   "cell_type": "code",
   "execution_count": 5,
   "metadata": {},
   "outputs": [
    {
     "name": "stdout",
     "output_type": "stream",
     "text": [
      "차돌짬뽕\n"
     ]
    }
   ],
   "source": [
    "budget = 10000\n",
    "if budget < 3000: dinner_menu = '삼각김밥'\n",
    "elif budget < 6000: dinner_menu = '도시락'\n",
    "elif budget < 10000: dinner_menu = '제육덮밥'\n",
    "elif budget < 20000: dinner_menu = '차돌짬뽕'\n",
    "else: dinner_menu = '치킨'\n",
    "\n",
    "print(dinner_menu)"
   ]
  },
  {
   "cell_type": "markdown",
   "metadata": {},
   "source": [
    "더 간결하게 표현하는 방법도 있음"
   ]
  },
  {
   "cell_type": "code",
   "execution_count": 6,
   "metadata": {},
   "outputs": [
    {
     "name": "stdout",
     "output_type": "stream",
     "text": [
      "100\n",
      "23\n"
     ]
    }
   ],
   "source": [
    "x = 100\n",
    "y = 10\n",
    "print(x) if x > 50 else print(y)\n",
    "\n",
    "z = 10 + (x if x < y else y) + 3\n",
    "print(z)\n"
   ]
  },
  {
   "cell_type": "markdown",
   "metadata": {},
   "source": [
    "## 반복문 (while, for)\n",
    "\n",
    "반복문은 특정 구문을 여러 번 반복하게 하는 문법으로써 코딩 시간 절약에 아주 큰 도움을 줍니다. if문과 함께 프로그램의 필수 요소 중 하나입니다.\n",
    "\n",
    "어떤 상황이든 코드를 반복할 일이 있으면 복사/붙여넣기가 아니라 반복문을 작성하는 습관을 들입시다.\n",
    "\n",
    "### ```while```\n",
    "\n",
    "while문의 기본 형식은 다음과 같습니다.\n",
    "\n",
    "```\n",
    "while 조건문:\n",
    "    조건이 참인 동안 계속 실행\n",
    "\n",
    "```\n",
    "\n",
    "while문은 최초 시작 시 조건문의 참/거짓을 판별하고, while문 내의 코드를 다 실행하고 나서 다시 조건문을 판별합니다."
   ]
  },
  {
   "cell_type": "code",
   "execution_count": 7,
   "metadata": {},
   "outputs": [
    {
     "name": "stdout",
     "output_type": "stream",
     "text": [
      "0 2 4 6 8 10 12 14 16 18 "
     ]
    }
   ],
   "source": [
    "i = 0\n",
    "\n",
    "while i < 10: # i == 10이면 동작 안함\n",
    "    print(i*2, end=' ') # end = ' '는 줄바꿈 대신 공백을 넣으라는 의미\n",
    "    i += 1"
   ]
  },
  {
   "cell_type": "markdown",
   "metadata": {},
   "source": [
    "> 위 예시에서는 루프 시작 전에 ```i = 0```이라고 변수를 하나 초기화한 뒤 루프 끝에서 i를 1씩 증가시키는 방식을 취하고 있습니다. i = 0부터 i = 9 까지 실행되기에 루프는 총 10번 실행됩니다. 이는 대부분의 프로그래밍 언어에서 정해진 횟수만큼 반복을 수행할 때 가장 기초적으로 쓰이는 방법입니다. 이 때 반복 횟수를 저장하기 위한 변수(예시에서는 ```i```)를 통상 counter variable이라고 하고 주로 ```i```, ```j```, ```cnt```, ```count```같은 변수명을 사용합니다. 일종의 프로그래밍 국룰임"
   ]
  },
  {
   "cell_type": "markdown",
   "metadata": {},
   "source": [
    "루프를 무한으로 즐기려면 ```while True:``` 를 사용하면 됩니다."
   ]
  },
  {
   "cell_type": "code",
   "execution_count": 8,
   "metadata": {},
   "outputs": [
    {
     "name": "stdout",
     "output_type": "stream",
     "text": [
      "무한으로 즐겨요 명륜진사루프\n",
      "무한으로 즐겨요 명륜진사루프\n",
      "무한으로 즐겨요 명륜진사루프\n",
      "무한으로 즐겨요 명륜진사루프\n",
      "무한으로 즐겨요 명륜진사루프\n",
      "무한으로 즐겨요 명륜진사루프\n"
     ]
    },
    {
     "ename": "KeyboardInterrupt",
     "evalue": "",
     "output_type": "error",
     "traceback": [
      "\u001b[1;31m---------------------------------------------------------------------------\u001b[0m",
      "\u001b[1;31mKeyboardInterrupt\u001b[0m                         Traceback (most recent call last)",
      "\u001b[1;32m<ipython-input-8-847f84312b1f>\u001b[0m in \u001b[0;36m<module>\u001b[1;34m\u001b[0m\n\u001b[0;32m      3\u001b[0m \u001b[1;32mwhile\u001b[0m \u001b[1;32mTrue\u001b[0m\u001b[1;33m:\u001b[0m \u001b[1;31m# 무한루프 끝내려면 Ctrl + C\u001b[0m\u001b[1;33m\u001b[0m\u001b[1;33m\u001b[0m\u001b[0m\n\u001b[0;32m      4\u001b[0m     \u001b[0mprint\u001b[0m\u001b[1;33m(\u001b[0m\u001b[1;34m'무한으로 즐겨요 명륜진사루프'\u001b[0m\u001b[1;33m)\u001b[0m\u001b[1;33m\u001b[0m\u001b[1;33m\u001b[0m\u001b[0m\n\u001b[1;32m----> 5\u001b[1;33m     \u001b[0mtime\u001b[0m\u001b[1;33m.\u001b[0m\u001b[0msleep\u001b[0m\u001b[1;33m(\u001b[0m\u001b[1;36m1\u001b[0m\u001b[1;33m)\u001b[0m \u001b[1;31m# 코드 실행을 1초간 멈추라는 의미\u001b[0m\u001b[1;33m\u001b[0m\u001b[1;33m\u001b[0m\u001b[0m\n\u001b[0m",
      "\u001b[1;31mKeyboardInterrupt\u001b[0m: "
     ]
    }
   ],
   "source": [
    "import time # 이게 뭐냐면...\n",
    "\n",
    "while True: # 무한루프 끝내려면 Ctrl + C\n",
    "    print('무한으로 즐겨요 명륜진사루프')\n",
    "    time.sleep(1) # 코드 실행을 1초간 멈추라는 의미\n"
   ]
  },
  {
   "cell_type": "markdown",
   "metadata": {},
   "source": [
    "```break```를 사용해서 전체 루프를 중단할 수 있습니다. 즉 ```break```가 등장하는 순간 while문 바깥으로 이동합니다.\n",
    "\n",
    "```continue```를 사용해서 현재 루프만 중단할 수 있습니다. 즉 ```continue```가 등장하는 순간 while문 맨 처음(조건문)으로 이동합니다."
   ]
  },
  {
   "cell_type": "code",
   "execution_count": 9,
   "metadata": {},
   "outputs": [
    {
     "name": "stdout",
     "output_type": "stream",
     "text": [
      "while loop 1회\n",
      "while loop 2회\n",
      "while loop 3회\n",
      "while loop 4회\n",
      "while loop 5회\n",
      "while loop 6회\n",
      "while loop 7회\n",
      "while loop 8회\n",
      "while loop 9회\n",
      "while loop 10회\n",
      "while loop 10회 반복함\n"
     ]
    }
   ],
   "source": [
    "i = 0\n",
    "while i < 20:\n",
    "    if i == 10:\n",
    "        break # i == 10이면 while문 전체를 중단\n",
    "    print(f'while loop {i + 1}회')\n",
    "    i += 1\n",
    "\n",
    "print(f\"while loop {i}회 반복함\")"
   ]
  },
  {
   "cell_type": "code",
   "execution_count": 10,
   "metadata": {},
   "outputs": [
    {
     "name": "stdout",
     "output_type": "stream",
     "text": [
      "1\n",
      "3\n",
      "5\n",
      "7\n",
      "9\n",
      "11\n",
      "13\n",
      "15\n",
      "17\n",
      "19\n",
      "while loop 20회 반복됨\n"
     ]
    }
   ],
   "source": [
    "i = 0\n",
    "while i < 20:\n",
    "    i += 1\n",
    "    if i % 2 == 0: # i가 2의 배수이면 (i를 2로 나눈 나머지가 0 이면)\n",
    "        continue # 이번 루프만 건너뛰고 다음 루프 진행\n",
    "    print(i)\n",
    "\n",
    "print(f'while loop {i}회 반복됨')\n",
    "# 만약 i += 1을 루프 끝부분에 넣으면 어떻게 될까?"
   ]
  },
  {
   "cell_type": "markdown",
   "metadata": {},
   "source": [
    "### ```for```\n",
    "\n",
    "for문은 while문 처럼 반복을 위한 구문이지만 더 다양한 기능이 있고 무한루프의 위험이 적다는 특징이 있습니다. 아마 파이썬 코딩할 때 제일 많이 쓸듯\n",
    "```\n",
    "for 요소 in 컬렉션:\n",
    "    컬렉션 속의 변수에 대해 계속 실행\n",
    "```\n",
    "컬렉션(리스트, 튜플, 딕셔너리 등 반복 가능한 아무거나) 속의 각 요소(element)에 대해 특정 구문을 반복하여 수행합니다."
   ]
  },
  {
   "cell_type": "code",
   "execution_count": 11,
   "metadata": {},
   "outputs": [
    {
     "name": "stdout",
     "output_type": "stream",
     "text": [
      "짜장면 하나 주세요\n",
      "짬뽕 하나 주세요\n",
      "볶음밥 하나 주세요\n",
      "탕수육 하나 주세요\n"
     ]
    }
   ],
   "source": [
    "menu_list = ['짜장면', '짬뽕', '볶음밥', '탕수육']\n",
    "\n",
    "for menu in menu_list: # menu_list 속의 각 요소\n",
    "    print(f'{menu} 하나 주세요')"
   ]
  },
  {
   "cell_type": "code",
   "execution_count": 12,
   "metadata": {},
   "outputs": [
    {
     "name": "stdout",
     "output_type": "stream",
     "text": [
      "으\n",
      "아\n",
      "아\n",
      "아\n"
     ]
    }
   ],
   "source": [
    "text = '으아아아'\n",
    "for char in text:\n",
    "    print(char)"
   ]
  },
  {
   "cell_type": "markdown",
   "metadata": {},
   "source": [
    "while문에서 배운것처럼 count variable을 쓰고 싶다면 ```range()```함수를 이용하세요. ```range(i, j)```는 ```i```이상 ```j```미만의 숫자를 포함하는 객체 하나를 만들어준다고 생각하면 됩니다."
   ]
  },
  {
   "cell_type": "code",
   "execution_count": 13,
   "metadata": {},
   "outputs": [
    {
     "name": "stdout",
     "output_type": "stream",
     "text": [
      "0 2 4 6 8 \n",
      "j = 1\n",
      "j = 2\n",
      "j = 3\n",
      "j = 4\n",
      "j = 5\n"
     ]
    }
   ],
   "source": [
    "for i in range(5): # range(5)는 0 이상 5 미만\n",
    "    print(i * 2, end=' ')\n",
    "\n",
    "print() # 빈 줄 삽입\n",
    "for j in range(1, 6):\n",
    "    print(f'j = {j}')"
   ]
  },
  {
   "cell_type": "code",
   "execution_count": 14,
   "metadata": {},
   "outputs": [
    {
     "name": "stdout",
     "output_type": "stream",
     "text": [
      "짜장면 하나 주세요\n",
      "짬뽕 하나 주세요\n",
      "볶음밥 하나 주세요\n",
      "탕수육 하나 주세요\n"
     ]
    }
   ],
   "source": [
    "# len() 함수를 이용하여 다음과 같이 리스트 요소를 반복하는 것도 가능하지만 이 방식은 비효율적입니다. 뒤에 더 좋은 방식을 소개함\n",
    "\n",
    "menu_list = ['짜장면', '짬뽕', '볶음밥', '탕수육']\n",
    "for i in range(len(menu_list)):\n",
    "    print(f'{menu_list[i]} 하나 주세요')"
   ]
  },
  {
   "cell_type": "markdown",
   "metadata": {},
   "source": [
    "앞서 배운 ```break```와 ```continue``` 또한 for문에서 사용할 수 있습니다."
   ]
  },
  {
   "cell_type": "code",
   "execution_count": 15,
   "metadata": {},
   "outputs": [
    {
     "name": "stdout",
     "output_type": "stream",
     "text": [
      "짜장면 하나 주세요\n",
      "차돌짬뽕 하나 주세요\n",
      "눈치없게 뭔 차돌짬뽕이야...\n"
     ]
    }
   ],
   "source": [
    "menu_list = ['짜장면', '차돌짬뽕', '볶음밥', '탕수육']\n",
    "\n",
    "for menu in menu_list:\n",
    "    print(f'{menu} 하나 주세요')\n",
    "    if menu == '차돌짬뽕':\n",
    "        print('눈치없게 뭔 차돌짬뽕이야...')\n",
    "        break"
   ]
  },
  {
   "cell_type": "code",
   "execution_count": 16,
   "metadata": {},
   "outputs": [
    {
     "name": "stdout",
     "output_type": "stream",
     "text": [
      "짜장면 하나 주세요\n",
      "볶음밥 하나 주세요\n",
      "탕수육 하나 주세요\n"
     ]
    }
   ],
   "source": [
    "menu_list = ['짜장면', '차돌짬뽕', '볶음밥', '탕수육']\n",
    "\n",
    "for menu in menu_list:\n",
    "    if menu == '차돌짬뽕': continue # 차돌짬뽕 컽\n",
    "    print(f'{menu} 하나 주세요')\n"
   ]
  },
  {
   "cell_type": "markdown",
   "metadata": {},
   "source": [
    "for 문을 중첩할 수도 있습니다(중첩 반복문, nested loop).\n",
    "\n",
    "여기서 구구단 안나오면 섭섭하다... 그죠?"
   ]
  },
  {
   "cell_type": "code",
   "execution_count": 17,
   "metadata": {},
   "outputs": [
    {
     "name": "stdout",
     "output_type": "stream",
     "text": [
      " 2  4  6  8 10 12 14 16 18 \n",
      " 3  6  9 12 15 18 21 24 27 \n",
      " 4  8 12 16 20 24 28 32 36 \n",
      " 5 10 15 20 25 30 35 40 45 \n",
      " 6 12 18 24 30 36 42 48 54 \n",
      " 7 14 21 28 35 42 49 56 63 \n",
      " 8 16 24 32 40 48 56 64 72 \n",
      " 9 18 27 36 45 54 63 72 81 \n"
     ]
    }
   ],
   "source": [
    "for i in range(2, 10):\n",
    "    for j in range(1, 10):\n",
    "        print(f'{i * j:2}', end=' ') # 여기서 :2는 i*j가 출력되는 위치가 2칸을 차지한다는 것을 의미\n",
    "    print()"
   ]
  },
  {
   "cell_type": "markdown",
   "metadata": {},
   "source": [
    "#### 다양한 for 예제\n",
    "\n",
    "* 여러 변수 한꺼번에 루프 돌리기 (중첩 루프랑 다름)\n",
    "\n",
    "예를 들면 튜플로 이루어진 리스트는..."
   ]
  },
  {
   "cell_type": "code",
   "execution_count": 18,
   "metadata": {},
   "outputs": [
    {
     "name": "stdout",
     "output_type": "stream",
     "text": [
      "3\n",
      "7\n",
      "11\n"
     ]
    }
   ],
   "source": [
    "list = [(1, 2), (3, 4), (5, 6)]\n",
    "\n",
    "for (i, j) in list:\n",
    "    print(i + j)"
   ]
  },
  {
   "cell_type": "markdown",
   "metadata": {},
   "source": [
    "또한 ```zip()``` 함수로 두 리스트(혹은 뭐든 반복할 수 있는 객체)를 묶어서 쌍으로 반복할 수도 있습니다."
   ]
  },
  {
   "cell_type": "code",
   "execution_count": 19,
   "metadata": {},
   "outputs": [
    {
     "name": "stdout",
     "output_type": "stream",
     "text": [
      "2 6 12 20 30 42 56 72 "
     ]
    }
   ],
   "source": [
    "for i, j in zip(range(2,10), range(1,10)):\n",
    "    print(i*j, end=' ')\n",
    "# 앞의 구구단 예제랑 다른 점 생각하기"
   ]
  },
  {
   "cell_type": "markdown",
   "metadata": {},
   "source": [
    "* 딕셔너리 루프 돌리기\n",
    "\n",
    "```dict.items()``` 함수를 이용하면 딕셔너리의 모든 key와 value에 대해 반복을 수행할 수 있습니다."
   ]
  },
  {
   "cell_type": "code",
   "execution_count": 20,
   "metadata": {},
   "outputs": [
    {
     "name": "stdout",
     "output_type": "stream",
     "text": [
      "짜장면: 6000원\n",
      "짬뽕: 7000원\n",
      "볶음밥: 7000원\n"
     ]
    }
   ],
   "source": [
    "chinese_dict = {'짜장면': 6000, '짬뽕': 7000, '볶음밥': 7000}\n",
    "\n",
    "for key, value in chinese_dict.items():\n",
    "    print(f'{key}: {value}원')\n"
   ]
  },
  {
   "cell_type": "markdown",
   "metadata": {},
   "source": [
    "* ```enumerate()``` 함수 이용\n",
    "\n",
    "앞선 예시를 조금 변형해 보았습니다."
   ]
  },
  {
   "cell_type": "code",
   "execution_count": 21,
   "metadata": {},
   "outputs": [
    {
     "name": "stdout",
     "output_type": "stream",
     "text": [
      "메뉴 1번: 짜장면 하나 주세요\n",
      "메뉴 2번: 짬뽕 하나 주세요\n",
      "메뉴 3번: 볶음밥 하나 주세요\n",
      "메뉴 4번: 탕수육 하나 주세요\n"
     ]
    }
   ],
   "source": [
    "# 권장하지 않는 방법\n",
    "menu_list = ['짜장면', '짬뽕', '볶음밥', '탕수육']\n",
    "for i in range(len(menu_list)):\n",
    "    print(f'메뉴 {i + 1}번: {menu_list[i]} 하나 주세요')\n"
   ]
  },
  {
   "cell_type": "markdown",
   "metadata": {},
   "source": [
    "이처럼 리스트의 인덱스와 요소가 둘 다 필요한 경우도 많은데, ```enumerate()``` 함수는 리스트의 인덱스와 요소의 쌍을 반환해주기 때문에 for문에서 유용하게 쓰입니다."
   ]
  },
  {
   "cell_type": "code",
   "execution_count": 22,
   "metadata": {},
   "outputs": [
    {
     "name": "stdout",
     "output_type": "stream",
     "text": [
      "메뉴 1번: 짜장면 하나 주세요\n",
      "메뉴 2번: 짬뽕 하나 주세요\n",
      "메뉴 3번: 볶음밥 하나 주세요\n",
      "메뉴 4번: 탕수육 하나 주세요\n"
     ]
    }
   ],
   "source": [
    "# 이 방법을 권장\n",
    "menu_list = ['짜장면', '짬뽕', '볶음밥', '탕수육']\n",
    "for i, menu in enumerate(menu_list):\n",
    "    print(f'메뉴 {i + 1}번: {menu_list[i]} 하나 주세요')\n"
   ]
  },
  {
   "cell_type": "markdown",
   "metadata": {},
   "source": [
    "* 리스트 내포 (list comprehension)\n",
    "\n",
    "리스트를 쉽고 빠르게 초기화시켜주는 구문입니다. 리스트 안에 for문이 포함되어 있는데, 기본 문법은 다음과 같습니다.\n",
    "\n",
    "```[표현식 for ~~ in ~~ if ~~]```\n",
    "\n",
    "예시들을 보는 게 더 이해가 빠를 겁니다."
   ]
  },
  {
   "cell_type": "code",
   "execution_count": 23,
   "metadata": {},
   "outputs": [
    {
     "name": "stdout",
     "output_type": "stream",
     "text": [
      "[0, 2, 4, 6, 8, 10, 12, 14, 16, 18]\n"
     ]
    }
   ],
   "source": [
    "result = [i * 2 for i in range(10)]\n",
    "print(result)"
   ]
  },
  {
   "cell_type": "code",
   "execution_count": 24,
   "metadata": {},
   "outputs": [
    {
     "name": "stdout",
     "output_type": "stream",
     "text": [
      "[0, 2, 4, 6, 8, 10, 12, 14, 16, 18]\n"
     ]
    }
   ],
   "source": [
    "result = [i for i in range(20) if i % 2 == 0]\n",
    "print(result)"
   ]
  },
  {
   "cell_type": "code",
   "execution_count": 25,
   "metadata": {},
   "outputs": [
    {
     "name": "stdout",
     "output_type": "stream",
     "text": [
      "[2, 4, 6, 8, 10, 12, 14, 16, 18, 3, 6, 9, 12, 15, 18, 21, 24, 27, 4, 8, 12, 16, 20, 24, 28, 32, 36, 5, 10, 15, 20, 25, 30, 35, 40, 45, 6, 12, 18, 24, 30, 36, 42, 48, 54, 7, 14, 21, 28, 35, 42, 49, 56, 63, 8, 16, 24, 32, 40, 48, 56, 64, 72, 9, 18, 27, 36, 45, 54, 63, 72, 81]\n"
     ]
    }
   ],
   "source": [
    "gugudan = [i * j for i in range(2, 10) for j in range(1, 10)]\n",
    "print(gugudan)"
   ]
  }
 ],
 "metadata": {
  "kernelspec": {
   "display_name": "Python 3.8.5 ('base')",
   "language": "python",
   "name": "python3"
  },
  "language_info": {
   "codemirror_mode": {
    "name": "ipython",
    "version": 3
   },
   "file_extension": ".py",
   "mimetype": "text/x-python",
   "name": "python",
   "nbconvert_exporter": "python",
   "pygments_lexer": "ipython3",
   "version": "3.8.5"
  },
  "orig_nbformat": 4,
  "vscode": {
   "interpreter": {
    "hash": "ad2bdc8ecc057115af97d19610ffacc2b4e99fae6737bb82f5d7fb13d2f2c186"
   }
  }
 },
 "nbformat": 4,
 "nbformat_minor": 2
}
