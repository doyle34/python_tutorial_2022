{
 "cells": [
  {
   "cell_type": "markdown",
   "metadata": {},
   "source": [
    "# Numpy\n",
    "\n",
    "[Numpy](https://numpy.org)는 수학 및 과학 계산을 위한 패키지입니다. 수학에서 쓰이는 벡터와 행렬 그리고 그 연산을 쉽게 구현할 수 있고 다른 패키지와의 연관성도 높습니다."
   ]
  },
  {
   "cell_type": "code",
   "execution_count": 1,
   "metadata": {},
   "outputs": [],
   "source": [
    "import numpy as np"
   ]
  },
  {
   "cell_type": "markdown",
   "metadata": {},
   "source": [
    "## 배열 생성\n",
    "\n",
    "Numpy 배열 생성은 파이썬의 리스트를 통해 이루어집니다. 예를 들어 다음과 같은 $A$라는 행렬을 만드려면 중첩 리스트를 ```np.array()``` 안에 넣습니다. 이는 ```numpy.ndarray```라는 클래스의 객체를 하나 생성합니다.\n",
    "\n",
    "$ A = \\begin{bmatrix} 1 & 2 & 3 \\\\ 4 & 5 & 6 \\\\ 7 & 8 & 9 \\end{bmatrix} $"
   ]
  },
  {
   "cell_type": "code",
   "execution_count": 2,
   "metadata": {},
   "outputs": [
    {
     "name": "stdout",
     "output_type": "stream",
     "text": [
      "[[1 2 3]\n",
      " [4 5 6]\n",
      " [7 8 9]]\n",
      "<class 'numpy.ndarray'>\n"
     ]
    }
   ],
   "source": [
    "a = np.array([[1, 2, 3], [4, 5 ,6], [7, 8 ,9]])\n",
    "print(a)\n",
    "print(type(a))"
   ]
  },
  {
   "cell_type": "markdown",
   "metadata": {},
   "source": [
    "```np.array()```외에도 여러가지 배열을 생성하는 방법이 있습니다."
   ]
  },
  {
   "cell_type": "code",
   "execution_count": 3,
   "metadata": {},
   "outputs": [
    {
     "name": "stdout",
     "output_type": "stream",
     "text": [
      "[0 1 2 3 4]\n",
      "[[0. 0.]\n",
      " [0. 0.]]\n",
      "[[1. 1. 1.]\n",
      " [1. 1. 1.]]\n",
      "[[1. 0. 0.]\n",
      " [0. 1. 0.]\n",
      " [0. 0. 1.]]\n",
      "[[5 5 5]\n",
      " [5 5 5]\n",
      " [5 5 5]]\n"
     ]
    }
   ],
   "source": [
    "print(np.arange(5)) # 0부터 4까지 1씩 증가하는 배열 (range()와 비슷함)\n",
    "print(np.zeros((2, 2))) # 2 x 2 0으로 가득 찬 행렬(영행렬)\n",
    "print(np.ones((2, 3))) # 2 x 3 1로 가득 찬 행렬(유닛행렬)\n",
    "print(np.eye(3)) # 단위행렬\n",
    "print(np.full((3, 3), 5)) # 모든 원소가 5\n"
   ]
  },
  {
   "cell_type": "markdown",
   "metadata": {},
   "source": [
    "numpy 배열(에는 다양한 속성과 메소드들이 있습니다.\n",
    "* ```ndarray.size```: 배열 사이즈. 총 원소의 개수\n",
    "* ```ndarray.ndim```: 배열의 차원. 행렬의 차원과 같음"
   ]
  },
  {
   "cell_type": "code",
   "execution_count": 4,
   "metadata": {},
   "outputs": [
    {
     "name": "stdout",
     "output_type": "stream",
     "text": [
      "[[1 2 3]\n",
      " [4 5 6]]\n",
      "6\n",
      "2\n",
      "24\n",
      "3\n"
     ]
    }
   ],
   "source": [
    "a = np.array([[1, 2, 3], [4, 5 ,6]])\n",
    "print(a)\n",
    "print(a.size)\n",
    "print(a.ndim)\n",
    "\n",
    "b = np.zeros((2, 3, 4)) # 2 x 3 x 4 사이즈의 3차원 행렬\n",
    "print(b.size)\n",
    "print(b.ndim)"
   ]
  },
  {
   "cell_type": "markdown",
   "metadata": {},
   "source": [
    "* ```ndarray.shape```: 배열의 형태. m x n 행렬의 크기(사이즈)를 말함. (row, col) 순서"
   ]
  },
  {
   "cell_type": "code",
   "execution_count": 5,
   "metadata": {},
   "outputs": [
    {
     "name": "stdout",
     "output_type": "stream",
     "text": [
      "(3,)\n",
      "(3, 1)\n",
      "(3, 3)\n"
     ]
    }
   ],
   "source": [
    "a = np.array([1, 2, 3])\n",
    "print(a.shape) # 배열의 차원. 1차원이면 (col,) 혹은 (row, col)\n",
    "b = np.array([[1], [2], [3]])\n",
    "print(b.shape)\n",
    "c = np.array([[1, 2, 3], [4, 5, 6], [7, 8, 9]])\n",
    "print(c.shape)\n"
   ]
  },
  {
   "cell_type": "markdown",
   "metadata": {},
   "source": [
    "\n",
    "* ```ndarray.reshape(shape, order='C')```: 배열을 원하는 shape대로 재배열.\n",
    "\n",
    "> reshape하는 과정은 다음과 같습니다.\n",
    "> \n",
    "> 1. 배열을 row-major(```order='C'```, C-style) 혹은 column-major(```order='F'```, Fortran-style) 순서로 flattened array(1D array) 형태로 변환. 기본값이 row-major style임\n",
    "> 2. 그 상태에서 다시 원하는 shape로 재배열. 이때 shape는 (row, col) 형태로 입력해야 하고, row나 col 둘 중 하나가 -1이면 나머지 하나의 값을 기준으로 자동으로 형태를 정함."
   ]
  },
  {
   "cell_type": "code",
   "execution_count": 6,
   "metadata": {},
   "outputs": [
    {
     "name": "stdout",
     "output_type": "stream",
     "text": [
      "(2, 3)\n",
      "[[1 2]\n",
      " [3 4]\n",
      " [5 6]]\n",
      "[1 2 3 4 5 6]\n",
      "[1 2 3 4 5 6]\n",
      "[ 0  1  2  3  4  5  6  7  8  9 10 11]\n",
      "[[ 0  1  2  3]\n",
      " [ 4  5  6  7]\n",
      " [ 8  9 10 11]]\n",
      "[[ 0  1]\n",
      " [ 2  3]\n",
      " [ 4  5]\n",
      " [ 6  7]\n",
      " [ 8  9]\n",
      " [10 11]]\n"
     ]
    }
   ],
   "source": [
    "a = np.array([[1, 2, 3], [4, 5 ,6]])\n",
    "print(a.shape)\n",
    "print(a.reshape((3, 2)))\n",
    "# print(a.reshape(3, 2)) # 사실 괄호 한번만 써도 됨\n",
    "print(a.reshape(-1)) # a를 flattened array (1D array)로 변환\n",
    "print(np.ravel(a)) # 위와 똑같은 함수\n",
    "\n",
    "b = np.arange(12)\n",
    "print(b)\n",
    "print(b.reshape(3, -1)) # 원소가 12개인데 행이 3개이려면 열은 자동으로 12 / 3 = 4개\n",
    "print(b.reshape(-1, 2)) # 마찬가지로 열이 2개면 행은 자동으로 6개가 됨\n",
    "# print(b.reshape(5, -1)) # ValueError: cannot reshape array of size 12 into shape (5,newaxis)"
   ]
  },
  {
   "cell_type": "markdown",
   "metadata": {},
   "source": [
    "## 인덱싱 & 슬라이싱\n",
    "\n",
    "인덱스는 리스트와 마찬가지로 0부터 시작이고, 슬라이싱 문법 역시 리스트와 동일합니다. 다만 [row][col]처럼 접근하는 중첩 리스트와 달리 numpy array는 [row, col]과 같은 형식으로 접근합니다. "
   ]
  },
  {
   "cell_type": "code",
   "execution_count": 7,
   "metadata": {},
   "outputs": [
    {
     "name": "stdout",
     "output_type": "stream",
     "text": [
      "6\n",
      "[[1 2]\n",
      " [4 5]]\n",
      "[[5 6]]\n",
      "[3 6]\n",
      "[1 2 3]\n"
     ]
    }
   ],
   "source": [
    "print(a[1, 2])\n",
    "print(a[:2, :2])\n",
    "print(a[1:, 1:])\n",
    "print(a[:, 2]) # row vector\n",
    "print(a[0, :]) # column vector"
   ]
  },
  {
   "cell_type": "markdown",
   "metadata": {},
   "source": [
    "## 배열 연산\n",
    "\n",
    "대학수학이나 공학수학, 선형대수학을 듣지 않았다면 뭔소리인지 모를수도 있는데 나중에 행렬 연산법에 대해 부가설명을 달아놓겠습니다.\n",
    "\n",
    "### 기본 사칙연산\n",
    "\n",
    "* ```+, -, *, /```: 각각 ```add(), substract(), multiply(), divide()``` 함수와 동일. 배열의 *요소별(element-wise)* 사칙연산을 수행\n"
   ]
  },
  {
   "cell_type": "code",
   "execution_count": 8,
   "metadata": {},
   "outputs": [
    {
     "name": "stdout",
     "output_type": "stream",
     "text": [
      "[[ 3  6  9]\n",
      " [12 15 18]]\n",
      "[[-1 -2 -3]\n",
      " [-4 -5 -6]]\n",
      "[[ 5 10 15]\n",
      " [20 25 30]]\n",
      "[[ 2  8 18]\n",
      " [32 50 72]]\n",
      "[[0.5 0.5 0.5]\n",
      " [0.5 0.5 0.5]]\n",
      "[[ 3  6  9]\n",
      " [12 15 18]]\n"
     ]
    }
   ],
   "source": [
    "a = np.array([[1, 2, 3], [4, 5, 6]])\n",
    "b = np.array([[2, 4, 6], [8, 10, 12]])\n",
    "\n",
    "print(a + b)\n",
    "print(a - b) # 벡터, 행렬의 덧셈은 원래 element-wise\n",
    "print(5 * a) # 벡터, 행렬의 스칼라곱\n",
    "print(a * b) # 행렬곱이 아니라 요소별 곱임에 주의\n",
    "print(a / b)\n",
    "\n",
    "print(np.add(a, b)) # 더하기(+) 연산자와 동일. 이런걸 연산자 오버로딩(operator overloading)이라고 함"
   ]
  },
  {
   "cell_type": "markdown",
   "metadata": {},
   "source": [
    "### 선형대수 기초"
   ]
  },
  {
   "cell_type": "markdown",
   "metadata": {},
   "source": [
    "* ```np.dot()```, ```np.inner()```: 벡터의 내적(dot/inner/scalar product). ```dot()```은 행렬곱도 가능하나 다른 방법을 추천"
   ]
  },
  {
   "cell_type": "code",
   "execution_count": 9,
   "metadata": {},
   "outputs": [
    {
     "name": "stdout",
     "output_type": "stream",
     "text": [
      "31\n",
      "31\n"
     ]
    }
   ],
   "source": [
    "a = np.array([1, 2, 3, 4])\n",
    "b = np.array([2, 5, 1, 4])\n",
    "print(np.dot(a, b)) # 1*2 + 2*5 + 3*1 + 4*4\n",
    "print(np.inner(a, b))"
   ]
  },
  {
   "cell_type": "markdown",
   "metadata": {},
   "source": [
    "* ```np.cross()```: 벡터의 외적(cross/vector product)"
   ]
  },
  {
   "cell_type": "code",
   "execution_count": 10,
   "metadata": {},
   "outputs": [
    {
     "name": "stdout",
     "output_type": "stream",
     "text": [
      "[-3  6 -3]\n",
      "-3\n"
     ]
    }
   ],
   "source": [
    "a = np.array([1, 2, 3])\n",
    "b = np.array([4, 5, 6])\n",
    "print(np.cross(a, b)) # 3D 벡터의 외적은 벡터\n",
    "\n",
    "x = np.array([1, 2])\n",
    "y = np.array([4, 5])\n",
    "print(np.cross(x, y)) # 2D 벡터의 외적은 z축 성분밖에 없어서 스칼라값이 나옴"
   ]
  },
  {
   "cell_type": "markdown",
   "metadata": {},
   "source": [
    "* ```np.outer()```: 다음과 같이 정의되는 outer product를 계산\n",
    "\n",
    "$$\n",
    "\\textbf{v} = \\begin{bmatrix}\n",
    "v_1 \\\\\n",
    "v_2 \\\\\n",
    "\\vdots \\\\\n",
    "v_n\n",
    "\\end{bmatrix}\n",
    ",\n",
    "\\textbf{w} = \\begin{bmatrix}\n",
    "w_1 \\\\\n",
    "w_2 \\\\\n",
    "\\vdots \\\\\n",
    "w_n\n",
    "\\end{bmatrix}\n",
    "$$\n",
    "\n",
    "$$\n",
    "\\textbf{v} \\otimes \\textbf{w} = \n",
    "\\begin{bmatrix}\n",
    "v_1 \\\\\n",
    "v_2 \\\\\n",
    "\\vdots \\\\\n",
    "v_n\n",
    "\\end{bmatrix}\n",
    "\\otimes\n",
    "\\begin{bmatrix}\n",
    "w_1 \\\\\n",
    "w_2 \\\\\n",
    "\\vdots \\\\\n",
    "w_n\n",
    "\\end{bmatrix}\n",
    "=\n",
    "\\begin{bmatrix}\n",
    "v_{1} w_{1} & v_{1} w_{2} & \\cdots & v_{1} w_{m} \\\\\n",
    "v_{2} w_{1} & v_{2} w_{2} & \\cdots & v_{2} w_{m} \\\\\n",
    "\\vdots & \\vdots & \\ddots & \\vdots \\\\\n",
    "v_{n} w_{1} & v_{n} w_{2} & \\cdots & v_{n} w_{m}\n",
    "\\end{bmatrix}\n",
    "$$\n",
    "\n",
    "$$ \\text{using index notation, simply:} $$\n",
    "$$\n",
    "(\\textbf{v} \\otimes \\textbf{w})_{ij} = v_iw_j\n",
    "$$\n"
   ]
  },
  {
   "cell_type": "code",
   "execution_count": 11,
   "metadata": {},
   "outputs": [
    {
     "name": "stdout",
     "output_type": "stream",
     "text": [
      "[[ 4  5  6]\n",
      " [ 8 10 12]\n",
      " [12 15 18]]\n"
     ]
    }
   ],
   "source": [
    "a = np.array([1, 2, 3])\n",
    "b = np.array([4, 5, 6])\n",
    "print(np.outer(a, b))"
   ]
  },
  {
   "cell_type": "markdown",
   "metadata": {},
   "source": [
    "* ```@```: 행렬곱 연산자. ```np.matmul()``` 함수와 동일. 행렬곱은 이 방법 추천"
   ]
  },
  {
   "cell_type": "code",
   "execution_count": 12,
   "metadata": {},
   "outputs": [
    {
     "name": "stdout",
     "output_type": "stream",
     "text": [
      "[[ 8 26]\n",
      " [17 29]]\n",
      "[[ 8 26]\n",
      " [17 29]]\n"
     ]
    }
   ],
   "source": [
    "a = np.array([[4, 2], [1, 8]])\n",
    "b = np.array([[1, 5], [2, 3]])\n",
    "print(a @ b)\n",
    "print(np.matmul(a, b))"
   ]
  },
  {
   "cell_type": "markdown",
   "metadata": {},
   "source": [
    "* ```ndarray.T```: 전치(Transpose). 행과 열을 뒤바꿈. ```np.transpose()```와 같음\n",
    "  \n",
    "\n"
   ]
  },
  {
   "cell_type": "code",
   "execution_count": 13,
   "metadata": {},
   "outputs": [
    {
     "name": "stdout",
     "output_type": "stream",
     "text": [
      "[[1 4]\n",
      " [2 5]\n",
      " [3 6]]\n",
      "[[1 4]\n",
      " [2 5]\n",
      " [3 6]]\n"
     ]
    }
   ],
   "source": [
    "a = np.array([[1, 2, 3], [4, 5, 6]])\n",
    "print(a.T)\n",
    "print(np.transpose(a))"
   ]
  },
  {
   "cell_type": "markdown",
   "metadata": {},
   "source": [
    "* ```ndarray.trace(), np.trace()```: 대각합(trace)을 계산\n",
    "\n",
    "$$ A = \\begin{bmatrix}\n",
    " a_{11} & a_{21} & a_{31} \\\\\n",
    " a_{12} & a_{22} & a_{32} \\\\\n",
    " a_{13} & a_{32} & a_{33}\n",
    " \\end{bmatrix}\n",
    "$$\n",
    "\n",
    "$$ \\text{tr}(A) = a_{11} + a_{22} + a_{33} $$\n",
    "* ```ndarray.diagonal(), np.diag()```: 대각선 성분을 반환하거나 대각행렬을 만듬."
   ]
  },
  {
   "cell_type": "code",
   "execution_count": 14,
   "metadata": {},
   "outputs": [
    {
     "name": "stdout",
     "output_type": "stream",
     "text": [
      "[1 5 9]\n",
      "[1 5 9]\n",
      "15\n",
      "15\n",
      "[[1 0 0]\n",
      " [0 2 0]\n",
      " [0 0 3]]\n"
     ]
    }
   ],
   "source": [
    "a = np.array([[1, 2, 3], [4, 5, 6], [7, 8, 9]])\n",
    "print(a.diagonal())\n",
    "print(np.diag(a))\n",
    "print(a.trace())\n",
    "print(np.trace(a))\n",
    "\n",
    "print(np.diag([1, 2, 3]))"
   ]
  },
  {
   "cell_type": "markdown",
   "metadata": {},
   "source": [
    "* ```ndarray.sum(), np.sum()```: 성분들의 합. axis를 지정해서 연산 가능\n",
    "* ```ndarray.prod(), np.prod()```: 성분들의 곱.\n",
    "\n",
    "> axis=0는 row-wise 연산, axis=1은 column-wise 연산입니다. 간단히 말해서 axis=0면 세로 방향으로 더하고 axis=1이면 가로 방향으로 더함"
   ]
  },
  {
   "cell_type": "code",
   "execution_count": 15,
   "metadata": {},
   "outputs": [
    {
     "name": "stdout",
     "output_type": "stream",
     "text": [
      "21\n",
      "[5 7 9]\n",
      "[ 6 15]\n",
      "720\n",
      "[ 4 10 18]\n",
      "[  6 120]\n"
     ]
    }
   ],
   "source": [
    "a = np.array([[1, 2, 3], [4, 5, 6]])\n",
    "print(a.sum()) # 모든 원소의 합\n",
    "print(a.sum(axis=0)) # row-wise sum\n",
    "print(a.sum(axis=1)) # column-wise sum\n",
    "\n",
    "print(a.prod())\n",
    "print(a.prod(axis=0))\n",
    "print(a.prod(axis=1))"
   ]
  },
  {
   "cell_type": "markdown",
   "metadata": {},
   "source": [
    "### ```numpy.linalg```\n",
    "* ```np.linalg.norm()```: 벡터, 또는 행렬의 norm을 계산 (모든 원소의 제곱 합의 제곱근)\n",
    "* ```np.linalg.det()```: 행렬의 행렬식(determinant) 계산\n",
    "* ```np.linalg.inv()```: 역행렬 계산\n",
    "* ```np.linalg.solve()```: linear system (행렬 형태의 연립방정식) $$ \\textbf{A}\\text{x}=\\textbf{b} $$의 해를 계산"
   ]
  },
  {
   "cell_type": "markdown",
   "metadata": {},
   "source": [
    "## 기타 함수들\n",
    "\n",
    "Numpy에는 배열 관련 함수 말고도 다른 함수들도 많은데 예를 들면 파이썬 기본 모듈인 ```math```모듈처럼 삼각함수, 지수함수, 로그함수 등도 있습니다."
   ]
  },
  {
   "cell_type": "code",
   "execution_count": 16,
   "metadata": {},
   "outputs": [
    {
     "name": "stdout",
     "output_type": "stream",
     "text": [
      "1.0\n",
      "2.0\n",
      "10\n"
     ]
    }
   ],
   "source": [
    "print(np.sin(np.pi / 2))\n",
    "print(np.log10(100))\n",
    "print(np.abs(-10))"
   ]
  },
  {
   "cell_type": "markdown",
   "metadata": {},
   "source": [
    "또한 여러가지 확률분포를 따르는 난수들을 생성할 수도 있습니다."
   ]
  },
  {
   "cell_type": "code",
   "execution_count": 17,
   "metadata": {},
   "outputs": [
    {
     "data": {
      "image/png": "[encoded data removed]",
      "text/plain": [
       "<Figure size 432x288 with 1 Axes>"
      ]
     },
     "metadata": {
      "needs_background": "light"
     },
     "output_type": "display_data"
    }
   ],
   "source": [
    "x = np.random.binomial(100, 0.2, size=50)\n",
    "\n",
    "import matplotlib.pyplot as plt\n",
    "n, bins, patches = plt.hist(x)"
   ]
  }
 ],
 "metadata": {
  "kernelspec": {
   "display_name": "Python 3.9.12 ('base')",
   "language": "python",
   "name": "python3"
  },
  "language_info": {
   "codemirror_mode": {
    "name": "ipython",
    "version": 3
   },
   "file_extension": ".py",
   "mimetype": "text/x-python",
   "name": "python",
   "nbconvert_exporter": "python",
   "pygments_lexer": "ipython3",
   "version": "3.9.12"
  },
  "orig_nbformat": 4,
  "vscode": {
   "interpreter": {
    "hash": "3d39570b89774e8c56601dc1283c82d3493762af8fc9b838ccc16c75e65bef38"
   }
  }
 },
 "nbformat": 4,
 "nbformat_minor": 2
}
