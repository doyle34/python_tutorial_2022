{
 "cells": [
  {
   "cell_type": "markdown",
   "metadata": {},
   "source": [
    "# Pandas\n",
    "\n",
    "[Pandas](https://pandas.pydata.org)는 데이터 분석과 조작 패키지입니다. 특히 2차원 자료구조(Table)을 다루기 편하게 해줍니다."
   ]
  },
  {
   "cell_type": "code",
   "execution_count": 1,
   "metadata": {},
   "outputs": [],
   "source": [
    "import pandas as pd"
   ]
  },
  {
   "cell_type": "markdown",
   "metadata": {},
   "source": [
    "## ```pandas.DataFrame```\n",
    "\n",
    "### 데이터 초기화\n",
    "Pandas에서 제일 중요하고 근간을 이루는 자료형입니다. 행 레이블, 열 레이블과 데이터로 구성되어 있으며 파이썬의 딕셔너리를 이용하여 생성할 수 있습니다. 행과 열 레이블은 ```index()```와 ```column()```으로 접근할 수 있고 데이터는 ```values``` 혹은 ```to_numpy()```를 통해 접근할 수 있습니다.\n",
    "\n",
    "DataFrame을 초기화하는 방법은 여러 가지가 있는데,\n",
    "\n",
    "* 딕셔너리로 초기화: 딕셔너리의 key는 열 이름(column name)이 되고, value는 각 열의 데이터가 된다."
   ]
  },
  {
   "cell_type": "code",
   "execution_count": 2,
   "metadata": {},
   "outputs": [
    {
     "name": "stdout",
     "output_type": "stream",
     "text": [
      "   col0  col1  col2  col3  col4\n",
      "0     1     4     7    10    13\n",
      "1     2     5     8    11    14\n",
      "2     3     6     9    12    15\n",
      "RangeIndex(start=0, stop=3, step=1)\n",
      "Index(['col0', 'col1', 'col2', 'col3', 'col4'], dtype='object')\n",
      "[[ 1  4  7 10 13]\n",
      " [ 2  5  8 11 14]\n",
      " [ 3  6  9 12 15]]\n"
     ]
    }
   ],
   "source": [
    "data = {\n",
    "    'col0': [1, 2, 3],\n",
    "    'col1': [4, 5, 6],\n",
    "    'col2': [7, 8, 9],\n",
    "    'col3': [10, 11, 12],\n",
    "    'col4': [13, 14, 15]\n",
    "}\n",
    "\n",
    "df = pd.DataFrame(data) # 딕셔너리로 초기화시 데이터가 열로 변환됨 (column-major)\n",
    "print(df)\n",
    "print(df.index) # 행 레이블 집합\n",
    "print(df.columns) # 열 레이블 집합\n",
    "print(df.values) # 데이터 집합"
   ]
  },
  {
   "cell_type": "markdown",
   "metadata": {},
   "source": [
    "* 리스트/튜플로 초기화: 2차원 리스트/튜플이 행렬처럼 DataFrame의 데이터가 됩니다."
   ]
  },
  {
   "cell_type": "code",
   "execution_count": 3,
   "metadata": {},
   "outputs": [
    {
     "name": "stdout",
     "output_type": "stream",
     "text": [
      "    0   1   2   3   4\n",
      "0   1   2   3   4   5\n",
      "1   6   7   8   9  10\n",
      "2  11  12  13  14  15\n"
     ]
    }
   ],
   "source": [
    "data = [[1, 2, 3, 4 ,5], [6, 7, 8, 9, 10], [11, 12, 13, 14, 15]]\n",
    "df = pd.DataFrame(data) # 리스트, 튜플로 초기화시 데이터가 행으로 변환됨 (row-major)\n",
    "print(df)"
   ]
  },
  {
   "cell_type": "markdown",
   "metadata": {},
   "source": [
    "* ```Numpy``` 배열로 초기화: 리스트, 튜플과 똑같음"
   ]
  },
  {
   "cell_type": "code",
   "execution_count": 4,
   "metadata": {},
   "outputs": [
    {
     "name": "stdout",
     "output_type": "stream",
     "text": [
      "    0   1   2   3   4\n",
      "0   0   1   2   3   4\n",
      "1   5   6   7   8   9\n",
      "2  10  11  12  13  14\n",
      "3  15  16  17  18  19\n"
     ]
    }
   ],
   "source": [
    "import numpy as np\n",
    "a = np.arange(20)\n",
    "a = a.reshape(4, -1)\n",
    "df = pd.DataFrame(a)\n",
    "print(df)"
   ]
  },
  {
   "cell_type": "markdown",
   "metadata": {},
   "source": [
    "* 파일로 초기화: ```read_csv(), read_excel(), read_html()```등 함수 이용 (사실 제일 많이씀)"
   ]
  },
  {
   "cell_type": "code",
   "execution_count": 5,
   "metadata": {},
   "outputs": [
    {
     "data": {
      "text/html": [
       "<div>\n",
       "<style scoped>\n",
       "    .dataframe tbody tr th:only-of-type {\n",
       "        vertical-align: middle;\n",
       "    }\n",
       "\n",
       "    .dataframe tbody tr th {\n",
       "        vertical-align: top;\n",
       "    }\n",
       "\n",
       "    .dataframe thead th {\n",
       "        text-align: right;\n",
       "    }\n",
       "</style>\n",
       "<table border=\"1\" class=\"dataframe\">\n",
       "  <thead>\n",
       "    <tr style=\"text-align: right;\">\n",
       "      <th></th>\n",
       "      <th>시도명</th>\n",
       "      <th>시군구명</th>\n",
       "      <th>종량제봉투종류</th>\n",
       "      <th>종량제봉투처리방식</th>\n",
       "      <th>종량제봉투용도</th>\n",
       "      <th>종량제봉투사용대상</th>\n",
       "      <th>1ℓ가격</th>\n",
       "      <th>1.5ℓ가격</th>\n",
       "      <th>2ℓ가격</th>\n",
       "      <th>2.5ℓ가격</th>\n",
       "      <th>...</th>\n",
       "      <th>30ℓ가격</th>\n",
       "      <th>50ℓ가격</th>\n",
       "      <th>60ℓ가격</th>\n",
       "      <th>75ℓ가격</th>\n",
       "      <th>100ℓ가격</th>\n",
       "      <th>120ℓ가격</th>\n",
       "      <th>125ℓ가격</th>\n",
       "      <th>관리부서명</th>\n",
       "      <th>관리부서전화번호</th>\n",
       "      <th>데이터기준일자</th>\n",
       "    </tr>\n",
       "  </thead>\n",
       "  <tbody>\n",
       "    <tr>\n",
       "      <th>0</th>\n",
       "      <td>서울특별시</td>\n",
       "      <td>관악구</td>\n",
       "      <td>규격봉투</td>\n",
       "      <td>소각용</td>\n",
       "      <td>생활쓰레기</td>\n",
       "      <td>가정용</td>\n",
       "      <td>0</td>\n",
       "      <td>0</td>\n",
       "      <td>0</td>\n",
       "      <td>0</td>\n",
       "      <td>...</td>\n",
       "      <td>740</td>\n",
       "      <td>1250</td>\n",
       "      <td>0</td>\n",
       "      <td>1880</td>\n",
       "      <td>0</td>\n",
       "      <td>0</td>\n",
       "      <td>0</td>\n",
       "      <td>청소행정과</td>\n",
       "      <td>02-879-6206</td>\n",
       "      <td>2021-10-15</td>\n",
       "    </tr>\n",
       "    <tr>\n",
       "      <th>1</th>\n",
       "      <td>서울특별시</td>\n",
       "      <td>관악구</td>\n",
       "      <td>규격봉투</td>\n",
       "      <td>소각용</td>\n",
       "      <td>음식물쓰레기</td>\n",
       "      <td>가정용</td>\n",
       "      <td>100</td>\n",
       "      <td>0</td>\n",
       "      <td>190</td>\n",
       "      <td>0</td>\n",
       "      <td>...</td>\n",
       "      <td>0</td>\n",
       "      <td>0</td>\n",
       "      <td>0</td>\n",
       "      <td>0</td>\n",
       "      <td>0</td>\n",
       "      <td>0</td>\n",
       "      <td>0</td>\n",
       "      <td>청소행정과</td>\n",
       "      <td>02-879-6206</td>\n",
       "      <td>2021-10-15</td>\n",
       "    </tr>\n",
       "  </tbody>\n",
       "</table>\n",
       "<p>2 rows × 24 columns</p>\n",
       "</div>"
      ],
      "text/plain": [
       "     시도명 시군구명 종량제봉투종류 종량제봉투처리방식 종량제봉투용도 종량제봉투사용대상  1ℓ가격  1.5ℓ가격  2ℓ가격  2.5ℓ가격  \\\n",
       "0  서울특별시  관악구    규격봉투       소각용   생활쓰레기       가정용     0       0     0       0   \n",
       "1  서울특별시  관악구    규격봉투       소각용  음식물쓰레기       가정용   100       0   190       0   \n",
       "\n",
       "   ...  30ℓ가격  50ℓ가격  60ℓ가격  75ℓ가격  100ℓ가격  120ℓ가격  125ℓ가격  관리부서명  \\\n",
       "0  ...    740   1250      0   1880       0       0       0  청소행정과   \n",
       "1  ...      0      0      0      0       0       0       0  청소행정과   \n",
       "\n",
       "      관리부서전화번호     데이터기준일자  \n",
       "0  02-879-6206  2021-10-15  \n",
       "1  02-879-6206  2021-10-15  \n",
       "\n",
       "[2 rows x 24 columns]"
      ]
     },
     "execution_count": 5,
     "metadata": {},
     "output_type": "execute_result"
    }
   ],
   "source": [
    "file = '서울특별시_관악구_종량제봉투가격.csv'\n",
    "df = pd.read_csv(file, encoding='EUC-KR') # encoding은 cp949 혹은 EUC-KR로 해야함! 기본값인 utf-8은 오류남\n",
    "df.head() # print보다 이게 더 좋음"
   ]
  },
  {
   "cell_type": "markdown",
   "metadata": {},
   "source": [
    "## 행/열 이름 바꾸기\n",
    "\n",
    "만약 행/열 이름을 바꾸고 싶다면, ```df.index```나 ```df.columns``` 속성에 직접 값을 대입하여 바꿀 수도 있습니다. 혹은 처음부터 데이터프레임을 생성할 때 index와 column 이름을 지정할 수 있습니다.\n",
    "\n",
    "일부 index, column을 바꾸고 싶다면 ```rename()``` 메소드를 이용하면 됩니다."
   ]
  },
  {
   "cell_type": "code",
   "execution_count": 6,
   "metadata": {},
   "outputs": [
    {
     "name": "stdout",
     "output_type": "stream",
     "text": [
      "      col0  col1  col2  col3  col4\n",
      "row0     0     1     2     3     4\n",
      "row1     5     6     7     8     9\n",
      "row2    10    11    12    13    14\n",
      "row3    15    16    17    18    19\n",
      "        column0  column1  column2  column3  column4\n",
      "index0        0        1        2        3        4\n",
      "index1        5        6        7        8        9\n",
      "index2       10       11       12       13       14\n",
      "index3       15       16       17       18       19\n"
     ]
    },
    {
     "data": {
      "text/html": [
       "<div>\n",
       "<style scoped>\n",
       "    .dataframe tbody tr th:only-of-type {\n",
       "        vertical-align: middle;\n",
       "    }\n",
       "\n",
       "    .dataframe tbody tr th {\n",
       "        vertical-align: top;\n",
       "    }\n",
       "\n",
       "    .dataframe thead th {\n",
       "        text-align: right;\n",
       "    }\n",
       "</style>\n",
       "<table border=\"1\" class=\"dataframe\">\n",
       "  <thead>\n",
       "    <tr style=\"text-align: right;\">\n",
       "      <th></th>\n",
       "      <th>수상한 열</th>\n",
       "      <th>column1</th>\n",
       "      <th>column2</th>\n",
       "      <th>column3</th>\n",
       "      <th>column4</th>\n",
       "    </tr>\n",
       "  </thead>\n",
       "  <tbody>\n",
       "    <tr>\n",
       "      <th>index0</th>\n",
       "      <td>0</td>\n",
       "      <td>1</td>\n",
       "      <td>2</td>\n",
       "      <td>3</td>\n",
       "      <td>4</td>\n",
       "    </tr>\n",
       "    <tr>\n",
       "      <th>수상한 인덱스</th>\n",
       "      <td>5</td>\n",
       "      <td>6</td>\n",
       "      <td>7</td>\n",
       "      <td>8</td>\n",
       "      <td>9</td>\n",
       "    </tr>\n",
       "    <tr>\n",
       "      <th>index2</th>\n",
       "      <td>10</td>\n",
       "      <td>11</td>\n",
       "      <td>12</td>\n",
       "      <td>13</td>\n",
       "      <td>14</td>\n",
       "    </tr>\n",
       "    <tr>\n",
       "      <th>index3</th>\n",
       "      <td>15</td>\n",
       "      <td>16</td>\n",
       "      <td>17</td>\n",
       "      <td>18</td>\n",
       "      <td>19</td>\n",
       "    </tr>\n",
       "  </tbody>\n",
       "</table>\n",
       "</div>"
      ],
      "text/plain": [
       "         수상한 열  column1  column2  column3  column4\n",
       "index0       0        1        2        3        4\n",
       "수상한 인덱스      5        6        7        8        9\n",
       "index2      10       11       12       13       14\n",
       "index3      15       16       17       18       19"
      ]
     },
     "execution_count": 6,
     "metadata": {},
     "output_type": "execute_result"
    }
   ],
   "source": [
    "a = np.arange(20)\n",
    "a = a.reshape(4, -1)\n",
    "df = pd.DataFrame(a, index=[f'row{i}' for i in range(4)], columns=[f'col{i}' for i in range(5)]) # 초기화 시 행/열 레이블 지정\n",
    "print(df)\n",
    "\n",
    "# 행/열 레이블 바꾸기\n",
    "df.index = [f'index{i}' for i in range(4)]\n",
    "df.columns = [f'column{i}' for i in range(5)]\n",
    "print(df)\n",
    "\n",
    "# 행/열 레이블 바꾸기 2\n",
    "df.rename(index={'index1': '수상한 인덱스'}, columns={'column0': '수상한 열'}, inplace=True) # inplace=True 옵션은 왜 있을까요?\n",
    "df.head()"
   ]
  },
  {
   "cell_type": "markdown",
   "metadata": {},
   "source": [
    "> 행과 열을 바꾸고 싶으면 Numpy처럼 df.T (Transpose)를 사용해도 됩니다."
   ]
  },
  {
   "cell_type": "markdown",
   "metadata": {},
   "source": [
    "### 데이터 선택 및 수정\n",
    "\n",
    "pandas에서 데이터를 선택하는 방식은 크게 행 기반, 열 기반으로 나눌 수 있습니다.\n",
    "\n",
    "* 행 기반 데이터 선택\n",
    "  * ```df.loc[]```: *인덱스 이름*을 기준으로 행을 선택\n",
    "  * ```df.iloc[]```: *위치 인덱스*를 기준으로 행을 선택\n",
    "* 열 기반 데이터 선택\n",
    "  * ```df[]```, ```df.```: 열 이름을 기준으로 선택"
   ]
  },
  {
   "cell_type": "code",
   "execution_count": 7,
   "metadata": {},
   "outputs": [
    {
     "data": {
      "text/html": [
       "<div>\n",
       "<style scoped>\n",
       "    .dataframe tbody tr th:only-of-type {\n",
       "        vertical-align: middle;\n",
       "    }\n",
       "\n",
       "    .dataframe tbody tr th {\n",
       "        vertical-align: top;\n",
       "    }\n",
       "\n",
       "    .dataframe thead th {\n",
       "        text-align: right;\n",
       "    }\n",
       "</style>\n",
       "<table border=\"1\" class=\"dataframe\">\n",
       "  <thead>\n",
       "    <tr style=\"text-align: right;\">\n",
       "      <th></th>\n",
       "      <th>col0</th>\n",
       "      <th>col1</th>\n",
       "      <th>col2</th>\n",
       "      <th>col3</th>\n",
       "      <th>col4</th>\n",
       "    </tr>\n",
       "  </thead>\n",
       "  <tbody>\n",
       "    <tr>\n",
       "      <th>row0</th>\n",
       "      <td>0</td>\n",
       "      <td>1</td>\n",
       "      <td>2</td>\n",
       "      <td>3</td>\n",
       "      <td>4</td>\n",
       "    </tr>\n",
       "    <tr>\n",
       "      <th>row1</th>\n",
       "      <td>5</td>\n",
       "      <td>6</td>\n",
       "      <td>7</td>\n",
       "      <td>8</td>\n",
       "      <td>9</td>\n",
       "    </tr>\n",
       "    <tr>\n",
       "      <th>row2</th>\n",
       "      <td>10</td>\n",
       "      <td>11</td>\n",
       "      <td>12</td>\n",
       "      <td>13</td>\n",
       "      <td>14</td>\n",
       "    </tr>\n",
       "    <tr>\n",
       "      <th>row3</th>\n",
       "      <td>15</td>\n",
       "      <td>16</td>\n",
       "      <td>17</td>\n",
       "      <td>18</td>\n",
       "      <td>19</td>\n",
       "    </tr>\n",
       "  </tbody>\n",
       "</table>\n",
       "</div>"
      ],
      "text/plain": [
       "      col0  col1  col2  col3  col4\n",
       "row0     0     1     2     3     4\n",
       "row1     5     6     7     8     9\n",
       "row2    10    11    12    13    14\n",
       "row3    15    16    17    18    19"
      ]
     },
     "execution_count": 7,
     "metadata": {},
     "output_type": "execute_result"
    }
   ],
   "source": [
    "a = np.arange(20)\n",
    "a = a.reshape(4, -1)\n",
    "df = pd.DataFrame(a, index=[f'row{i}' for i in range(4)], columns=[f'col{i}' for i in range(5)])\n",
    "df.head()"
   ]
  },
  {
   "cell_type": "code",
   "execution_count": 8,
   "metadata": {},
   "outputs": [
    {
     "name": "stdout",
     "output_type": "stream",
     "text": [
      "col0    5\n",
      "col1    6\n",
      "col2    7\n",
      "col3    8\n",
      "col4    9\n",
      "Name: row1, dtype: int64\n",
      "      col0  col1  col2  col3  col4\n",
      "row1     5     6     7     8     9\n",
      "row2    10    11    12    13    14\n",
      "row3    15    16    17    18    19\n"
     ]
    }
   ],
   "source": [
    "print(df.loc['row1']) # 하나만 선택하면 Series 형식으로 출력됨\n",
    "print(df.loc['row1':'row3']) # 슬라이싱도 가능, 주의할 점은 리스트 슬라이싱이랑 범위가 다름."
   ]
  },
  {
   "cell_type": "code",
   "execution_count": 9,
   "metadata": {},
   "outputs": [
    {
     "name": "stdout",
     "output_type": "stream",
     "text": [
      "      col0  col1  col2  col3  col4\n",
      "row0     0     1     2     3     4\n",
      "\n",
      "      col0  col1  col2  col3  col4\n",
      "row2    10    11    12    13    14\n",
      "row3    15    16    17    18    19\n"
     ]
    }
   ],
   "source": [
    "print(df.iloc[[0]]) # 하나만 선택해도 괄호를 2개 쓰면 DataFrame 형식이 됨\n",
    "print()\n",
    "print(df.iloc[2:])"
   ]
  },
  {
   "cell_type": "code",
   "execution_count": 10,
   "metadata": {},
   "outputs": [
    {
     "name": "stdout",
     "output_type": "stream",
     "text": [
      "row0     0\n",
      "row1     5\n",
      "row2    10\n",
      "row3    15\n",
      "Name: col0, dtype: int64\n",
      "row0     0\n",
      "row1     5\n",
      "row2    10\n",
      "row3    15\n",
      "Name: col0, dtype: int64\n",
      "      col1  col3\n",
      "row0     1     3\n",
      "row1     6     8\n",
      "row2    11    13\n",
      "row3    16    18\n"
     ]
    }
   ],
   "source": [
    "print(df['col0']) # 하나만 선택, Series 형식\n",
    "print(df.col0)\n",
    "print(df[['col1','col3']]) # 여러개 선택하려면 괄호 2개 써야함. 그리고 얘만 슬라이싱 안됨"
   ]
  },
  {
   "cell_type": "markdown",
   "metadata": {},
   "source": [
    "두 선택법을 조합하면 데이터를 선택하고 값을 변경할 수 있습니다.\n",
    "\n",
    "* ```df.loc[인덱스, 열 이름]```\n",
    "* ```df.iloc[행 번호, 열 번호]```:\n",
    "* ```df[열 이름][인덱스 or 행 번호]```"
   ]
  },
  {
   "cell_type": "code",
   "execution_count": 11,
   "metadata": {},
   "outputs": [
    {
     "name": "stdout",
     "output_type": "stream",
     "text": [
      "1\n",
      "1\n",
      "col1    1\n",
      "col2    2\n",
      "col3    3\n",
      "Name: row0, dtype: int64\n",
      "      col1  col2  col3\n",
      "row0     1     2     3\n",
      "row1     6     7     8\n",
      "row2    11    12    13\n",
      "      col1  col2\n",
      "row0     1     2\n",
      "row1     6     7\n",
      "1\n",
      "      col0  col1  col2  col3  col4\n",
      "row0     0   100     2     3     4\n",
      "row1     5     6     7     8     9\n",
      "row2    10    11    12    13    14\n",
      "row3    15    16    17    18    19\n",
      "      col1  col2\n",
      "row1     6     7\n",
      "row2    11    12\n"
     ]
    },
    {
     "data": {
      "text/html": [
       "<div>\n",
       "<style scoped>\n",
       "    .dataframe tbody tr th:only-of-type {\n",
       "        vertical-align: middle;\n",
       "    }\n",
       "\n",
       "    .dataframe tbody tr th {\n",
       "        vertical-align: top;\n",
       "    }\n",
       "\n",
       "    .dataframe thead th {\n",
       "        text-align: right;\n",
       "    }\n",
       "</style>\n",
       "<table border=\"1\" class=\"dataframe\">\n",
       "  <thead>\n",
       "    <tr style=\"text-align: right;\">\n",
       "      <th></th>\n",
       "      <th>col0</th>\n",
       "      <th>col1</th>\n",
       "      <th>col2</th>\n",
       "      <th>col3</th>\n",
       "      <th>col4</th>\n",
       "    </tr>\n",
       "  </thead>\n",
       "  <tbody>\n",
       "    <tr>\n",
       "      <th>row0</th>\n",
       "      <td>0</td>\n",
       "      <td>1</td>\n",
       "      <td>2</td>\n",
       "      <td>3</td>\n",
       "      <td>4</td>\n",
       "    </tr>\n",
       "    <tr>\n",
       "      <th>row1</th>\n",
       "      <td>5</td>\n",
       "      <td>60</td>\n",
       "      <td>70</td>\n",
       "      <td>8</td>\n",
       "      <td>9</td>\n",
       "    </tr>\n",
       "    <tr>\n",
       "      <th>row2</th>\n",
       "      <td>10</td>\n",
       "      <td>110</td>\n",
       "      <td>120</td>\n",
       "      <td>13</td>\n",
       "      <td>14</td>\n",
       "    </tr>\n",
       "    <tr>\n",
       "      <th>row3</th>\n",
       "      <td>15</td>\n",
       "      <td>16</td>\n",
       "      <td>17</td>\n",
       "      <td>18</td>\n",
       "      <td>19</td>\n",
       "    </tr>\n",
       "  </tbody>\n",
       "</table>\n",
       "</div>"
      ],
      "text/plain": [
       "      col0  col1  col2  col3  col4\n",
       "row0     0     1     2     3     4\n",
       "row1     5    60    70     8     9\n",
       "row2    10   110   120    13    14\n",
       "row3    15    16    17    18    19"
      ]
     },
     "execution_count": 11,
     "metadata": {},
     "output_type": "execute_result"
    }
   ],
   "source": [
    "print(df.loc['row0', 'col1'])\n",
    "print(df.iloc[0, 1])\n",
    "\n",
    "print(df.loc['row0', 'col1':'col3']) # 2개 이상 출력하면 Series나 DataFrame 객체가 됨\n",
    "print(df.loc['row0':'row2', 'col1':'col3'])\n",
    "print(df.iloc[0:2, 1:3]) # 윗줄이랑 왜 출력이 다를까요\n",
    "\n",
    "# 값 변경\n",
    "\n",
    "print(df.iloc[0, 1]) # 1\n",
    "df.iloc[0, 1] = 100\n",
    "print(df)\n",
    "df.loc['row0', 'col1'] = 1 # 원상복구\n",
    "\n",
    "print(df.loc['row1':'row2', 'col1':'col2']) # 6, 7, 11, 12\n",
    "df.loc['row1':'row2', 'col1':'col2'] = [[60, 70], [110, 120]]\n",
    "df.head()"
   ]
  },
  {
   "cell_type": "markdown",
   "metadata": {},
   "source": [
    "행이나 열을 삭제하려면 ```drop()```함수를 사용하세요."
   ]
  },
  {
   "cell_type": "code",
   "execution_count": 12,
   "metadata": {},
   "outputs": [
    {
     "name": "stdout",
     "output_type": "stream",
     "text": [
      "      col0  col1  col2  col3  col4\n",
      "row1     5     6     7     8     9\n",
      "row2    10    11    12    13    14\n",
      "row3    15    16    17    18    19\n",
      "      col0  col1  col3  col4\n",
      "row0     0     1     3     4\n",
      "row1     5     6     8     9\n",
      "row2    10    11    13    14\n",
      "row3    15    16    18    19\n"
     ]
    }
   ],
   "source": [
    "a = np.arange(20)\n",
    "a = a.reshape(4, -1)\n",
    "df = pd.DataFrame(a, index=[f'row{i}' for i in range(4)], columns=[f'col{i}' for i in range(5)])\n",
    "\n",
    "df_1 = df.copy() # 만약 카피하지 않으면 무시무시한 일이 벌어짐\n",
    "\n",
    "df_1.drop('row0', axis=0, inplace=True) # axis=0은 row-wise 연산. 따라서 행이 삭제됨.\n",
    "print(df_1)\n",
    "\n",
    "df_2 = df.copy()\n",
    "\n",
    "df_2.drop('col2', axis=1, inplace=True)\n",
    "print(df_2)\n",
    "\n",
    "# 카피 안하면\n",
    "# df_notacopy = df\n",
    "# df_notacopy.loc['row1', 'col1'] = 3192\n",
    "# df_notacopy.drop('row3', inplace=True)\n",
    "# print(df_notacopy)\n",
    "# print(df) # 넌 왜 바뀌어있니???"
   ]
  }
 ],
 "metadata": {
  "kernelspec": {
   "display_name": "Python 3.9.12 ('base')",
   "language": "python",
   "name": "python3"
  },
  "language_info": {
   "codemirror_mode": {
    "name": "ipython",
    "version": 3
   },
   "file_extension": ".py",
   "mimetype": "text/x-python",
   "name": "python",
   "nbconvert_exporter": "python",
   "pygments_lexer": "ipython3",
   "version": "3.9.12"
  },
  "orig_nbformat": 4,
  "vscode": {
   "interpreter": {
    "hash": "3d39570b89774e8c56601dc1283c82d3493762af8fc9b838ccc16c75e65bef38"
   }
  }
 },
 "nbformat": 4,
 "nbformat_minor": 2
}
