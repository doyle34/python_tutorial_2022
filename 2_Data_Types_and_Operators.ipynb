{
 "cells": [
  {
   "cell_type": "markdown",
   "metadata": {},
   "source": [
    "Python Tutorial - 2. Data Types and Operators\n",
    "---\n",
    "\n",
    "# VSCode로 Python 코딩 시작하기\n",
    "\n",
    "앞서 0강에서 VSCode의 설치와 기본적인 설정을 모두 마쳤으면, 왼쪽의 메뉴에서 제일 위의 아이콘을 클릭합니다. 그리고 Open Folder 버튼을 클릭하여 파이썬 스크립트를 작성하고 실행시킬 폴더를 생성하고 선택합니다. Window의 경우는 ```C:\\Users\\사용자 이름``` 디렉토리 하위에 폴더를 만드는 것을, MacOS의 경우도 마찬가지로 ```Users/사용자 이름``` 디렉토리 하위에 폴더를 만드는 것을 추천드리나 아무 위치에 생성해도 상관없습니다(OneDrive, Google Drive 같은 가상 디스크에 생성하는건 일단 권장하지 않습니다)\n",
    "\n",
    "폴더를 열고 나면 왼쪽 익스플로러에 빈 공간이 보일 겁니다. 빈 공간을 우클릭하고 'New File'을 클릭하여 새로운 파일을 만들어줍시다. 파일 이름은 상관없으나 확장자는 **.py** 여야 합니다. 파일을 생성하면 자동으로 열립니다. 그리고 위쪽의 메뉴에서 Terminal - New Terminal 버튼을 클릭합니다. 이제 이 터미널에 ```'Hello World'```를 출력해 봅시다.\n",
    "\n",
    "## 들어가며: ```print('Hello World')```\n",
    "\n",
    "```print()```는 괄호 안의 내용을 출력하는 기초적인 명령어입니다.\n",
    "예를 들어 Hello World를 출력하고 싶으면 다음 한 줄만 입력하세요."
   ]
  },
  {
   "cell_type": "code",
   "execution_count": 1,
   "metadata": {},
   "outputs": [
    {
     "name": "stdout",
     "output_type": "stream",
     "text": [
      "Hello World\n"
     ]
    }
   ],
   "source": [
    "print('Hello World')"
   ]
  },
  {
   "cell_type": "markdown",
   "metadata": {},
   "source": [
    "숫자도 출력할 수 있습니다. 심지어 사칙연산을 수행하고 출력할 수도 있습니다."
   ]
  },
  {
   "cell_type": "code",
   "execution_count": 2,
   "metadata": {},
   "outputs": [
    {
     "name": "stdout",
     "output_type": "stream",
     "text": [
      "55\n",
      "25224\n",
      "482.0\n"
     ]
    }
   ],
   "source": [
    "print(55)\n",
    "print(12394 + 12830)\n",
    "# 이 줄은 주석(comment)입니다. 주석에는 코드 설명같은 여러 정보를 적어 놓을 수 있습니다.\n",
    "# 주석 처리한 줄은 실행되지 않습니다.\n",
    "# print(\"이거 실행안됨\")\n",
    "# 주석처리 단축기 Ctrl + / 또는 cmd + /\n",
    "print(3 + 4 - 20 / 4 + 40 * 12)"
   ]
  },
  {
   "cell_type": "markdown",
   "metadata": {},
   "source": [
    "> 문자를 출력할 때와 숫자를 출력할 때의 다른 점을 눈치채셨나요? 문자열은 따옴표'' 안에 작성된다는 점입니다."
   ]
  },
  {
   "cell_type": "markdown",
   "metadata": {},
   "source": [
    "그런데 무언가를 출력할 일이 있을때마다 이렇게 print() 명령어 안에 복잡한 문자나 수식을 적어야 하는 걸까요? 같은 문자를 반복해서 사용해야 한다면 어떡할까요?\n",
    "파이썬을 비롯한 모든 프로그래밍 언어는 **변수(Variable)** 안에 값을 대입하여 값을 재사용하기 쉽게 할 수 있습니다.\n",
    "예를 들면 다음 코드는 ```text```라는 변수에 ```'파이썬3.10.6최신버전무료다운로드링크'``` 라는 문자열을 대입하고, ```num```이라는 변수에 ```28371528398``` 라는 숫자를 대입하고 출력하고 있습니다."
   ]
  },
  {
   "cell_type": "code",
   "execution_count": 3,
   "metadata": {},
   "outputs": [
    {
     "name": "stdout",
     "output_type": "stream",
     "text": [
      "파이썬3.10.6최신버전무료다운로드링크\n",
      "28371528398\n"
     ]
    }
   ],
   "source": [
    "text = '파이썬3.10.6최신버전무료다운로드링크'\n",
    "num = 28371528398\n",
    "print(text)\n",
    "print(num)"
   ]
  },
  {
   "cell_type": "markdown",
   "metadata": {},
   "source": [
    "여기서 등호는 '같다'의 의미가 아니라, '왼쪽 값에 오른쪽의 값을 대입한다' 라는 의미로 사용되었습니다. 이처럼 변수에 초기값을 대입하는 행위를 '**초기화(Initialize)**'한다고 합니다.\n",
    "\n",
    "> 컴퓨터 과학과 프로그래밍 언어에서 '같다'는 의미는 등호 두개(```==```) 입니다. \n",
    "\n",
    "> 변수의 이름은 보통 그 변수가 담고 있는 값의 의미를 알아볼 수 있게 짓는 것이 보편적입니다. 앞으로 나올 예시들에서 자료형에 따른 변수 이름들을 관찰해보세요.\n",
    "\n",
    "> **변수명을 한글로 짓지 마세요!!!** 개발 환경에 따라 오류가 날 수도 있습니다. 주석이나 문자열 외에는 한글 사용을 피하세요.\n",
    "\n",
    "> 변수명을 짓는 규칙(Naming Convention)도 프로그래밍 언어마다 조금씩 다른데, 파이썬의 경우 PEP(Python Enhancement Proposal) 8: Style Guide for Python Code 라는 문서에서 파이썬 코드 스타일을 정의하고 있습니다. 자세한 내용은 PEP 8의 [Descriptive: Naming Styles](https://peps.python.org/pep-0008/#descriptive-naming-styles) 내용을 참고하거나 그냥 대충 짜세요\n",
    "\n",
    "> Tip: 변수명이 안 떠오를 때가 있습니다. 변수명을 짓는게 고민된다면 [Curioustore](https://www.curioustore.com/#!/)를 이용해보세요."
   ]
  },
  {
   "cell_type": "markdown",
   "metadata": {},
   "source": [
    "# 기본 자료형\n",
    "## 리터럴 상수\n",
    "\n",
    "리터럴(Literal)이란 말 그대로 적힌 그대로의 의미를 가진 상수입니다. 리터럴 상수에는 숫자형과 문자형이 있습니다.\n",
    "\n",
    "### 숫자형\n",
    "* 정수 (Integer)"
   ]
  },
  {
   "cell_type": "code",
   "execution_count": 4,
   "metadata": {},
   "outputs": [
    {
     "data": {
      "text/plain": [
       "int"
      ]
     },
     "execution_count": 4,
     "metadata": {},
     "output_type": "execute_result"
    }
   ],
   "source": [
    "a = 34\n",
    "b = -41\n",
    "c = 0\n",
    "# type() 명령어로 해당 변수의 자료형이 무엇인지를 알 수 있습니다\n",
    "type(a)"
   ]
  },
  {
   "cell_type": "markdown",
   "metadata": {},
   "source": [
    "\n",
    "* 부동소숫점(Floating-point) 실수 (Float)\n",
    "    \n",
    "> 과학적 표기법(Scientific Notation)은 유효숫자와 자릿수로 숫자를 표기하는 방식입니다. 예를 들면 $2.35 \\times 10^8$, $1.4 \\times 10^{-3}$ 같이 매우 큰 수나 작은 수를 표현하기 적절합니다. 컴퓨터 및 일부 프로그래밍 언어에서는 ```3.1E5```, ```1.4E-3``` 등으로 표기합니다(엑셀에서도 이렇게 쓸 수 있죠).\n",
    "\n",
    "> 부동소숫점 실수라고 부르는 이유는 컴퓨터가 소숫점 있는 실수를 저장하는 방식과 관련이 있습니다. 정말 중요한 내용이지만... 시간이 부족하여 아마 못 다룰 것 같습니다. [이 영상](https://youtu.be/-GsrYvZoAdA)을 참고해보세요.\n"
   ]
  },
  {
   "cell_type": "code",
   "execution_count": 5,
   "metadata": {},
   "outputs": [
    {
     "data": {
      "text/plain": [
       "float"
      ]
     },
     "execution_count": 5,
     "metadata": {},
     "output_type": "execute_result"
    }
   ],
   "source": [
    "pi = 3.14\n",
    "e = 2.35E8\n",
    "f = 1.4E-3\n",
    "type(e)"
   ]
  },
  {
   "cell_type": "markdown",
   "metadata": {},
   "source": [
    "* 복소수 (Complex)\n",
    "\n",
    "복소수는 실수부와 허수부로 나뉘고, 허수부 뒤에는 단위허수($i=\\sqrt{-1}$)를 붙여 나타낸다. (ex: $3+4i$)\n",
    "\n",
    "파이썬에서는 단위허수를 $i$ 대신 $j$로 표기한다. 문자 $i$는 보통 index의 줄임말로 많이 쓰기 때문에 그냥 $j$씀 (전기전자분야에서도 $i$는 전류 기호로 많이 쓰여서 $j$로 씀)"
   ]
  },
  {
   "cell_type": "code",
   "execution_count": 6,
   "metadata": {},
   "outputs": [
    {
     "name": "stdout",
     "output_type": "stream",
     "text": [
      "(3+4j)\n",
      "<class 'complex'>\n"
     ]
    }
   ],
   "source": [
    "z = 3 + 4j\n",
    "w = 5 - 2J # 대문자도 됨\n",
    "print(z)\n",
    "print(type(z))"
   ]
  },
  {
   "cell_type": "markdown",
   "metadata": {},
   "source": [
    "#### 숫자형의 연산\n",
    "\n",
    "기본적인 사칙연산 +, -, *, / 은 다 아시죠? 숫자형 리터럴 뿐만 아니라 변수끼리 연산도 당연히 됩니다."
   ]
  },
  {
   "cell_type": "code",
   "execution_count": 7,
   "metadata": {},
   "outputs": [
    {
     "name": "stdout",
     "output_type": "stream",
     "text": [
      "5\n"
     ]
    }
   ],
   "source": [
    "a = 2\n",
    "b = 3\n",
    "c = a + b\n",
    "print(c)"
   ]
  },
  {
   "cell_type": "markdown",
   "metadata": {},
   "source": [
    "참고: 명시적 형변환과 암시적 형변환, 정수와 실수의 형변환"
   ]
  },
  {
   "cell_type": "code",
   "execution_count": 8,
   "metadata": {},
   "outputs": [
    {
     "name": "stdout",
     "output_type": "stream",
     "text": [
      "<class 'int'>\n",
      "<class 'int'>\n",
      "<class 'float'>\n",
      "<class 'int'>\n",
      "0\n"
     ]
    }
   ],
   "source": [
    "a = 1\n",
    "b = 2\n",
    "c = a / b\n",
    "print(type(a))\n",
    "print(type(b))\n",
    "print(type(c))\n",
    "# int를 int로 나눠도 알아서 float이 됨. 이건 파이썬이 개똑똑해서 그런거고 C언어 계열에서는 이 예시의 변수 c도 int로 취급됨.\n",
    "# 정수와 실수끼리는 형변환(Type Conversion)이 됨\n",
    "# 형변환에는 위에서 파이썬이 지맘대로 한 것처럼 암시적(implicit) 변환이 있고 사용자가 직접 변수형을 표기하는 명시적(explicit)변환이 있음\n",
    "# 에를 들면 실수형에서 정수형으로의 명시적 변환은 int(c)처럼 하면 됨\n",
    "c_int = int(c)\n",
    "print(type(c_int))\n",
    "print(c_int) # 실수를 정수로 억지로 바꾸면 소숫점 아래가 버려짐. 예전에 이거 몰라서 개삽질함"
   ]
  },
  {
   "cell_type": "markdown",
   "metadata": {},
   "source": [
    "가끔 쓰이는 숫자형 연산자\n",
    "* ```**```: 지수 표현\n",
    "* ```%```: 나머지 표현\n",
    "* ```//```: 몫 표현"
   ]
  },
  {
   "cell_type": "code",
   "execution_count": 9,
   "metadata": {},
   "outputs": [
    {
     "name": "stdout",
     "output_type": "stream",
     "text": [
      "64\n",
      "1\n",
      "2\n"
     ]
    }
   ],
   "source": [
    "a = 4 ** 3\n",
    "b = 7 % 3\n",
    "c = 7 // 3\n",
    "print(a)\n",
    "print(b)\n",
    "print(c)"
   ]
  },
  {
   "cell_type": "markdown",
   "metadata": {},
   "source": [
    "#### 할당 연산자\n",
    "\n",
    "할당 연산자(assignment operator)란 변수에 값을 할당하는데 사용되는 연산자입니다. 이미 배웠던 ```=```가 할당 연산자입니다.\n",
    "등호 앞에 기본 연산자들을 붙이면 할당과 동시에 계산을 하는 할당 연산자가 됩니다.\n",
    "* ```+=```: 왼쪽 변수에 오른쪽 값을 더하고 할당\n",
    "* ```-=```: 왼쪽 변수에 오른쪽 값을 빼고 할당\n",
    "* ```*=```: 왼쪽 변수에 오른쪽 값을 곱하고 할당\n",
    "* ```/=```: 왼쪽 변수를 오른쪽 값으로 나누고 할당\n",
    "\n",
    "이 외에 ```//, %, **```도 할당 연산자로 쓸 수 있습니다.\n",
    "\n",
    "> 혹시나 C언어를 배우고 오신 분들에게: 정수형 뒤에 ++/--를 붙여서 1을 더하거나 빼는 문법(예: i++)은 파이썬엔 없습니다. "
   ]
  },
  {
   "cell_type": "code",
   "execution_count": 10,
   "metadata": {},
   "outputs": [
    {
     "name": "stdout",
     "output_type": "stream",
     "text": [
      "2\n",
      "9\n"
     ]
    }
   ],
   "source": [
    "a = 1\n",
    "a += 1\n",
    "print(a)\n",
    "\n",
    "b = 3\n",
    "b *= 3\n",
    "print(b)"
   ]
  },
  {
   "cell_type": "markdown",
   "metadata": {},
   "source": [
    "### 문자형\n",
    "\n",
    "문자열(String)은 그냥 문자들의 나열 그 자체입니다. 문자열은 작은따옴표```''``` 혹은 큰따옴표 ```\"\"```로 표기하며, 따옴표 세개를 연속으로 써서 여러줄의 문자를 쓰는 것도 가능합니다."
   ]
  },
  {
   "cell_type": "code",
   "execution_count": 11,
   "metadata": {},
   "outputs": [
    {
     "name": "stdout",
     "output_type": "stream",
     "text": [
      "This is string\n",
      "This is also string\n",
      "This is a very long string\n",
      "you can also change lines\n",
      "This is an another very long string\n",
      "you can change lines too\n"
     ]
    }
   ],
   "source": [
    "str_1 = 'This is string'\n",
    "str_2 = \"This is also string\"\n",
    "str_long_1 = '''This is a very long string\n",
    "you can also change lines'''\n",
    "str_long_2 = \"\"\"This is an another very long string\n",
    "you can change lines too\"\"\"\n",
    "print(str_1)\n",
    "print(str_2)\n",
    "print(str_long_1)\n",
    "print(str_long_2)\n"
   ]
  },
  {
   "cell_type": "markdown",
   "metadata": {},
   "source": [
    "만약 문자열 안에 따옴표를 표기하고 싶다면 어떡할까요? ```''```를 쓰고 싶으면 문자열을 ```\"\"```로 묶으면 되고, 반대의 경우도 마찬가지입니다.\n",
    "\n",
    "혹은 이스케이프 문자 ```\\```(backslash)를 사용하는 방법도 있습니다. 이스케이프 문자는 특수한 문자를 삽입하고 싶을 때 사용한다고 보면 됩니다. 대표적으로 다음 두 예시만 알아두세요\n",
    "* ```\\n```: 줄바꿈\n",
    "* ```\\t```: 탭"
   ]
  },
  {
   "cell_type": "code",
   "execution_count": 12,
   "metadata": {},
   "outputs": [
    {
     "name": "stdout",
     "output_type": "stream",
     "text": [
      "줄을 바꾸려면\n",
      "이렇게 하세요\n",
      "탭을 넣으려면\t이렇게 하세요\n",
      "'크아아아' 투명드래곤이 울부짖었다\n",
      "\"크아아아\" 투명드래곤이 울부짖었다\n",
      "'크아아아' 투명드래곤이 울부짖었다\n"
     ]
    }
   ],
   "source": [
    "str_esc_1 = \"줄을 바꾸려면\\n이렇게 하세요\"\n",
    "str_esc_2 = \"탭을 넣으려면\\t이렇게 하세요\"\n",
    "\n",
    "str_esc_3 = \"'크아아아' 투명드래곤이 울부짖었다\"\n",
    "str_esc_4 = '\"크아아아\" 투명드래곤이 울부짖었다'\n",
    "str_esc_5 = '\\'크아아아\\' 투명드래곤이 울부짖었다'\n",
    "print(str_esc_1)\n",
    "print(str_esc_2)\n",
    "print(str_esc_3)\n",
    "print(str_esc_4)\n",
    "print(str_esc_5)\n"
   ]
  },
  {
   "cell_type": "markdown",
   "metadata": {},
   "source": [
    "#### 문자 형식화 (String formatting)\n",
    "문자열에 고정된 상수가 아닌 변수의 값을 대입하고 싶을 때는 어떡할까요? 문자열에 변수를 삽입하는 방식을 문자열 형식화(string formatting)이라고 합니다. 대표적으로 3가지 방식이 있습니다.\n",
    "\n",
    "1. 구식 버전 (다른 언어에서도 대부분 적용되는 형식)\n",
    "  \n",
    "  다음과 같은 % 문자를 문자열 안에 쓰고, 문자열 바로 뒤에 %를 붙이고 원하는 변수를 넣습니다.\n",
    "* ```%s```: 문자\n",
    "* ```%d```: 정수\n",
    "* ```%f```: 실수\n",
    "\n",
    "실수의 경우 소숫점 몇 자리까지 표기할지 정할 수 있습니다. ```.3f```라는 형식은 소숫점 아래 세 자리까지 출력하라는 의미입니다.\n",
    "\n",
    "여러 개의 % 형식을 쓰고 싶으면, 뒤에 변수를 ()로 묶으면 됩니다."
   ]
  },
  {
   "cell_type": "code",
   "execution_count": 13,
   "metadata": {},
   "outputs": [
    {
     "name": "stdout",
     "output_type": "stream",
     "text": [
      "이름과 직업? 박동인, 대학원생\n",
      "나이? 25살\n",
      "전체평점과 전공평점은? 전체 3.320000, 전공 3.600000\n",
      "First 5 decimal places of PI = 3.14159\n"
     ]
    }
   ],
   "source": [
    "print(\"이름과 직업? %s\" % \"박동인, 대학원생\")\n",
    "print(\"나이? %d살\" % 25)\n",
    "# % 여러개를 쓰려면 괄호로 묶으면 됨\n",
    "print(\"전체평점과 전공평점은? 전체 %f, 전공 %f\" % (3.32, 3.6))\n",
    "# 소숫점 개수를 조절하려면 %.{숫자}f 같은 식으로 쓰면 {숫자}만큼만 소숫점이 표시됨\n",
    "print(\"First 5 decimal places of PI = %.5f\" % 3.1415926536)"
   ]
  },
  {
   "cell_type": "markdown",
   "metadata": {},
   "source": [
    "2. str.format() 메소드 사용\n",
    "\n",
    "% 대신 문자열 안에는 {} (bracket)을 넣고 string 뒤에 ```.format()``` 함수를 붙이고 format 함수 안에 변수를 넣으면 됩니다.\n",
    "\n",
    "또한 중괄호 안에 숫자나 keyword argument를 넣어서 순서를 마음대로 바꿀 수도 있습니다."
   ]
  },
  {
   "cell_type": "code",
   "execution_count": 14,
   "metadata": {},
   "outputs": [
    {
     "name": "stdout",
     "output_type": "stream",
     "text": [
      "이번 정류장은 농생대입니다. 다음 정류장은 공대입구입니다.\n",
      "카레먹는데 똥얘기 하지 마라\n",
      "똥먹는데 카레얘기 하지 마라\n",
      "몰디브 가서 모히또나 한잔 할까\n"
     ]
    }
   ],
   "source": [
    "print(\"이번 정류장은 {}입니다. 다음 정류장은 {}입니다.\".format(\"농생대\", \"공대입구\"))\n",
    "print(\"{0}먹는데 {1}얘기 하지 마라\".format(\"카레\", \"똥\"))\n",
    "print(\"{1}먹는데 {0}얘기 하지 마라\".format(\"카레\", \"똥\"))\n",
    "print(\"{where} 가서 {what}나 한잔 할까\".format(where = \"몰디브\", what = \"모히또\"))"
   ]
  },
  {
   "cell_type": "markdown",
   "metadata": {},
   "source": [
    "3. f-string (Formatted string literals) (Python 3.6 이상, **권장**)\n",
    "\n",
    "위의 방법들은 조금 오래되고 고전적인 방법입니다(대신 다른 언어에서도 많이 쓰이니 알아두면 좋음)\n",
    "\n",
    "우리는 최신 기술을 적극 활용합시다. 심지어 실행 속도도 제일 빠름\n",
    "\n",
    "문자열 앞에 ```f```를 붙이면 f-string이 됩니다. 그리고 {} 안에 변수명과 포맷 형식만 지정해줍시다. 사칙연산도 가능합니다."
   ]
  },
  {
   "cell_type": "code",
   "execution_count": 15,
   "metadata": {},
   "outputs": [
    {
     "name": "stdout",
     "output_type": "stream",
     "text": [
      "구독자수 696만 기타리스트 정성하\n",
      "구독자수 12.3만 기타리스트 장재훈\n"
     ]
    }
   ],
   "source": [
    "subscribers = 6960000\n",
    "name = '정성하'\n",
    "print(f\"구독자수 {subscribers/1E4:.0f}만 기타리스트 {name}\")\n",
    "\n",
    "subscribers = 123000\n",
    "name = '장재훈'\n",
    "print(f'구독자수 {subscribers/1E4:.1f}만 기타리스트 {name}')"
   ]
  },
  {
   "cell_type": "markdown",
   "metadata": {},
   "source": [
    "#### 문자형 연산\n",
    "\n",
    "문자열끼리 더하면 (+) 문자열끼리 서로 이어붙일 수 있습니다 (concatenate)"
   ]
  },
  {
   "cell_type": "code",
   "execution_count": 16,
   "metadata": {},
   "outputs": [
    {
     "name": "stdout",
     "output_type": "stream",
     "text": [
      "준식 엄\n"
     ]
    }
   ],
   "source": [
    "first_name = '준식'\n",
    "last_name = '엄'\n",
    "print(first_name + ' ' + last_name) # 공백도 문자임"
   ]
  },
  {
   "cell_type": "markdown",
   "metadata": {},
   "source": [
    "문자열에 숫자를 곱하면 (*) 문자열을 여러번 반복합니다."
   ]
  },
  {
   "cell_type": "code",
   "execution_count": 17,
   "metadata": {},
   "outputs": [
    {
     "name": "stdout",
     "output_type": "stream",
     "text": [
      "py끼얏호우~!py끼얏호우~!py끼얏호우~!py끼얏호우~!py끼얏호우~!py끼얏호우~!py끼얏호우~!py끼얏호우~!py끼얏호우~!py끼얏호우~!\n"
     ]
    }
   ],
   "source": [
    "str_rep = 'py끼얏호우~!'\n",
    "print(str_rep*10)"
   ]
  },
  {
   "cell_type": "markdown",
   "metadata": {},
   "source": [
    "#### 문자열 관련 함수\n",
    "\n",
    "> 함수가 무엇인지는 나중 강의에서 다루겠지만, 간단히는 ```print()``` 같은 명령어들이라고 생각하면 됩니다. ```print()```는 괄호 안의 내용을 터미널에 출력해주는 함수이죠. 기본적으로 함수는 괄호 안의 내용을 입력 인자(input)로 받아서 특정한 일을 수행하고 출력 인자(output)를 반환합니다. 왜 어떤 함수는 변수 뒤에 점(.)을 찍어서 사용해야 하는지도 나중에 다루겠습니다.\n",
    "\n",
    "* ```len()```: 문자열의 길이를 알려줌\n",
    "* ```str.count()```: 문자열에서 () 안의 문자의 갯수를 세줌\n",
    "* ```str.find()```, ```str.index()```: 문자열에서 () 안의 문자가 몇 번째에 처음으로 등장하는지 알려줌\n",
    "* ```str.upper()```, ```str.lower()```: 문자열을 모두 대문자/소문자로 바꿔줌\n",
    "* ```str.split('sep')```: 문자열을 ```sep```을 기준으로 나누어줌. 만약 ```sep```이 없으면 공백(space, tab, enter 등)을 기준으로 나눔. (엑셀 써본사람은 알거임)"
   ]
  },
  {
   "cell_type": "code",
   "execution_count": 18,
   "metadata": {},
   "outputs": [
    {
     "name": "stdout",
     "output_type": "stream",
     "text": [
      "24\n",
      "2\n",
      "0\n",
      "MR. SMITH IN SWITZERLAND\n",
      "['mr.', 'smith', 'in', 'switzerland']\n",
      "['mr', ' smith in switzerland']\n"
     ]
    }
   ],
   "source": [
    "smith = 'mr. smith in switzerland'\n",
    "print(len(smith))\n",
    "print(smith.count('s'))\n",
    "print(smith.find('mr'))\n",
    "print(smith.upper())\n",
    "print(smith.split()) # 공백을 기준으로 문자열 나누기\n",
    "print(smith.split('.')) # 점 (.)을 기준으로 문자열 나누기"
   ]
  },
  {
   "cell_type": "markdown",
   "metadata": {},
   "source": [
    "## 리스트 (List)\n",
    "\n",
    "만약 공통점이 있는 여러가지 데이터를 변수로 저장해야 한다면 가장 좋은 방법은 무엇일까요? 예를 들면 다음과 같이 여러 가지 이름들을 저장해야 하는 상황을 생각해 봅시다.\n",
    "```\n",
    "name_0 = '아메리카노'\n",
    "name_1 = '카페라떼'\n",
    "name_2 = '바닐라라떼'\n",
    "name_3 = '카페모카'\n",
    "```\n",
    "지금까지 배운 방법으로는 위와 같이 변수 하나에 문자열 하나를 대입해야 합니다. 이렇게 비효율적인 일을 하지 않아도 자료형들의 묶음, 즉 **리스트**를 사용하면 됩니다.\n",
    "\n",
    "리스트는 이름 그대로 숫자나 문자 등의 자료형의 묶음입니다. 리스트 자료형은 다음과 같이 ```[]```안에 요소(element)들을 콤마로 구분지어 넣어서 생성할 수 있습니다. 각 요소들은 0부터 시작하는 번호를 가지는데, 이를 인덱스(index)라고 합니다.\n",
    "\n",
    "```list = [elem0, elem1, elem2, ... , elemN]```\n",
    " \n",
    "위의 예시에 적용해 보면 다음과 같이 하나의 변수만 사용하여 문자열 4개를 저장할 수 있습니다.\n",
    "\n",
    "```champ_list = ['아메리카노', '카페라떼', '바닐라라떼', '카페모카']```\n",
    "\n",
    "```champ_list```라는 리스트는 4개의 요소를 가지고 있고, 이를 리스트의 길이(length) 혹은 크기(size)가 4라고 합니다.\n",
    "> 리스트는 파이썬(과 대부분의 프로그래밍 언어)에서 리터럴 자료형만큼이나 중요한 자료형입니다. 다른 프로그래밍 언어에서는 배열(array), 벡터(vector), 행렬(matrix) 등으로 불리기도 합니다. 대학수학을 조금만 할 줄 알아도 숫자 리스트의 형식이 벡터와 똑같다는 걸 알 수 있죠.\n",
    "\n",
    "> 프로그래밍 세계에서 모든 셈(counting)은 **0**부터 시작입니다! (MATLAB: 아님말고)\n",
    "\n",
    "\n",
    "리스트의 요소는 앞서 배운 숫자, 문자열 외에도 어떠한 자료형이든 될 수 있습니다. 서로 다른 자료형도 같은 리스트 안에 포함될 수 있고, 심지어 리스트 안에 리스트를 포함시킬수도 있습니다."
   ]
  },
  {
   "cell_type": "code",
   "execution_count": 19,
   "metadata": {},
   "outputs": [],
   "source": [
    "a = [] # 빈 리스트\n",
    "a = list() # 빈 리스트 2\n",
    "b = [1, 2, 3]\n",
    "c = ['One','Two','Three']\n",
    "d = [1, 2, 'One', 'Two']\n",
    "e = [1, 2, [1, 2]] # 리스트 안에 리스트"
   ]
  },
  {
   "cell_type": "markdown",
   "metadata": {},
   "source": [
    "### 리스트 인덱싱\n",
    "\n",
    "리스트는 요소(element)들로 이루어지고 각 요소는 0부터 시작하는 번호(index)를 가진다고 했습니다. 리스트의 각 요소에 접근하고 사용하기 위해서는 이 번호를 이용해야 합니다(이를 인덱싱indexing이라 합니다). 예를 들어 리스트 ```[1, 2, 3, 4, 5]```의 첫번째 요소 (index=0) ```1```의 값은 ```a[0]```과 같이 접근할 수 있습니다.\n",
    "\n",
    "> 리스트의 요소에 접근(access)하거나 리스트의 요소를 참조(reference)한다는 표현을 많이 씁니다. 왜 이런 용어를 쓰는지는 나중에 시간되면 설명..."
   ]
  },
  {
   "cell_type": "code",
   "execution_count": 20,
   "metadata": {},
   "outputs": [
    {
     "name": "stdout",
     "output_type": "stream",
     "text": [
      "1\n",
      "4\n"
     ]
    }
   ],
   "source": [
    "a = [1, 2, 3, 4, 5]\n",
    "print(a[0])\n",
    "print(a[3])"
   ]
  },
  {
   "cell_type": "markdown",
   "metadata": {},
   "source": [
    "요소가 총 5개인 리스트니까 인덱스는 0부터 4까지 존재합니다. 만약 존재하지 않는 6번째 요소(index=5)에 접근하려 하면 어떤 일이 일어날까요?"
   ]
  },
  {
   "cell_type": "code",
   "execution_count": 21,
   "metadata": {},
   "outputs": [],
   "source": [
    "# a[5] # IndexError: list index out of range"
   ]
  },
  {
   "cell_type": "markdown",
   "metadata": {},
   "source": [
    "```IndexError: list index out of range``` 라는 오류가 뜨면서 실행되지 않습니다. 이러한 배열 참조 에러는 어떤 프로그래밍 언어든 가장 흔하고 기초적인 에러입니다.\n",
    "\n",
    "> **리스트 혹은 배열을 사용할 때는 항상 인덱스 범위에 주의하세요**.\n",
    "\n",
    "* 음수 인덱스\n",
    "\n",
    "파이썬의 배열 인덱싱은 특이하게도 음수 인덱스도 지원합니다. 0 이상의 정수가 배열의 앞부분부터 참조하는 인덱스라면, 음수 인덱스는 배열의 맨 뒤 요소부터 참조하는 인덱스입니다."
   ]
  },
  {
   "cell_type": "code",
   "execution_count": 22,
   "metadata": {},
   "outputs": [
    {
     "name": "stdout",
     "output_type": "stream",
     "text": [
      "5\n",
      "3\n"
     ]
    }
   ],
   "source": [
    "print(a[-1]) # 배열의 맨 뒤 요소\n",
    "print(a[-3]) # 배열의 뒤에서 3번째 요소\n",
    "# print(a[-6]) # 배열의 뒤에서 6번째 요소. 존재하지 않으므로 IndexError 반환"
   ]
  },
  {
   "cell_type": "markdown",
   "metadata": {},
   "source": [
    "* 중첩 리스트 인덱싱\n",
    "\n",
    "앞서 리스트 속에도 리스트를 넣을 수 있다고 설명드렸습니다. 리스트 속의 리스트(중첩 리스트, nested list)는 어떻게 접근하면 될까요? 답은 인덱스를 두 번 쓰면 됩니다."
   ]
  },
  {
   "cell_type": "code",
   "execution_count": 23,
   "metadata": {},
   "outputs": [
    {
     "name": "stdout",
     "output_type": "stream",
     "text": [
      "[1, 2]\n",
      "1\n",
      "2\n"
     ]
    }
   ],
   "source": [
    "a = [1, 2, [1, 2]]\n",
    "print(a[2]) # a의 3번째 요소(a[2])는 [1, 2] 라는 리스트\n",
    "print(a[2][0]) # a[2]의 인덱스[0]: 1\n",
    "print(a[2][1]) # a[2]의 인덱스[1]: 2"
   ]
  },
  {
   "cell_type": "markdown",
   "metadata": {},
   "source": [
    "중첩 리스트는 주로 수학의 행렬(matrix)을 표현하고 싶을 때 사용합니다. 예를 들면 다음과 같은 2x2 행렬을 중첩 리스트로 표현해봅시다.\n",
    "\n",
    "$A=\\begin{bmatrix}\n",
    "1 & 2 \\\\\n",
    "3 & 4\n",
    "\\end{bmatrix}\n",
    "$\n",
    "\n",
    "이 행렬의 각 요소는 다음과 같습니다.\n",
    "\n",
    "$A(1, 1) = 1,  A(1, 2) = 2, A(2, 1) = 3, A(2, 2) = 4$\n",
    "\n",
    "파이썬에서는 인덱스가 0부터 시작한다는 점만 주의하면 다음과 같이 행렬처럼 리스트 요소에 접근할 수 있습니다.\n",
    "\n",
    "근데 사실 나중에 numpy 배우면 벡터나 행렬은 numpy쓸거임 어쩔넘파이"
   ]
  },
  {
   "cell_type": "code",
   "execution_count": 24,
   "metadata": {},
   "outputs": [
    {
     "name": "stdout",
     "output_type": "stream",
     "text": [
      "1\n",
      "4\n"
     ]
    }
   ],
   "source": [
    "A = [[1, 2], [3, 4]]\n",
    "print(A[0][0])\n",
    "print(A[1][1])"
   ]
  },
  {
   "cell_type": "markdown",
   "metadata": {},
   "source": [
    "### 리스트 슬라이싱\n",
    "\n",
    "리스트의 한 요소를 참조하기 위해서는 인덱스를 하나면 쓰면 됩니다. 리스트의 여러 요소를 동시에 참조하고 싶으면 인덱스를 여러 개 쓰면 되지 않을까요? 이렇게 리스트의 여러 요소를 참조하는 방법을 슬라이싱(slicing)이라고 합니다. 문법은 다음과 같습니다.\n",
    "\n",
    "```a[start_index:end_index]```\n",
    "\n",
    "위 표현은 어떤 리스트 ```a```의 ```start_index```부터 ```end_index```의 *바로 앞*까지를 참조하고 있습니다. **인덱스 슬라이싱 범위는 콜론(:) 앞에 오는 숫자부터 뒤에 오는 숫자 - 1 까지입니다.**\n",
    "\n",
    "콜론 앞이나 뒤에 숫자가 없을 경우, 각각 리스트의 처음부터/끝까지 모든 인덱스를 의미합니다."
   ]
  },
  {
   "cell_type": "code",
   "execution_count": 25,
   "metadata": {},
   "outputs": [
    {
     "name": "stdout",
     "output_type": "stream",
     "text": [
      "[1, 2]\n",
      "[2, 3]\n",
      "[1, 2, 3]\n",
      "[3, 4, 5]\n"
     ]
    }
   ],
   "source": [
    "a = [1, 2, 3, 4, 5]\n",
    "print(a[0:2]) # [0]부터 [1]까지, 즉 [1, 2]\n",
    "print(a[1:3]) # [1]부터 [2]까지, 즉 [2, 3]\n",
    "print(a[:3]) # 처음부터 [2]까지, 즉 [1, 2, 3]\n",
    "print(a[2:]) # [2]부터 끝까지, 즉 [3, 4, 5]\n"
   ]
  },
  {
   "cell_type": "markdown",
   "metadata": {},
   "source": [
    "조금 헷갈릴수도 있는데, 음수 인덱스로도 슬라이싱이 됩니다.\n",
    "> 배열의 참조 방향은 항상 좌 -> 우 입니다! **음수 인덱스를 쓴다고 배열 참조 방향이 달라지는게 아닙니다.**"
   ]
  },
  {
   "cell_type": "code",
   "execution_count": 26,
   "metadata": {},
   "outputs": [
    {
     "name": "stdout",
     "output_type": "stream",
     "text": [
      "[2, 3]\n",
      "[1, 2]\n",
      "[3, 4, 5]\n"
     ]
    }
   ],
   "source": [
    "print(a[1:-2]) # [1]에서부터 [-3]까지, 즉 [2, 3]\n",
    "print(a[:-3]) # 처음부터 [-4]까지, 즉 [1, 2]\n",
    "print(a[-3:]) # [-3]부터 끝까지, 즉 [3, 4, 5]"
   ]
  },
  {
   "cell_type": "markdown",
   "metadata": {},
   "source": [
    "### 문자열도 리스트였어\n",
    "\n",
    "앞서 문자열을 배울 때 여러분들께 진실을 알려드리지 않았습니다. 사실 문자열도 리스트입니다.\n",
    "그 증거로 문자열도 인덱싱과 슬라이싱이 된다는 것을 보여드리겠습니다."
   ]
  },
  {
   "cell_type": "code",
   "execution_count": 27,
   "metadata": {},
   "outputs": [
    {
     "name": "stdout",
     "output_type": "stream",
     "text": [
      "a\n",
      "ab\n",
      "fg\n"
     ]
    }
   ],
   "source": [
    "text = 'abcdefg'\n",
    "print(text[0])\n",
    "print(text[:2])\n",
    "print(text[-2:])"
   ]
  },
  {
   "cell_type": "markdown",
   "metadata": {},
   "source": [
    "> 문자열이 리스트라는 사실은 C계열 언어를 배울때 아주 중요하게 배우는 내용입니다. 왜냐하면 C계열 언어는 문자 '하나'만 담을 수 있는 문자 자료형(character type)과 문자 여러개를 담을 수 있는 문자열 자료형(string type)이 엄격하게 구분되기 때문입니다. 그리고 *문자열은 문자들의 배열(리스트)이다* 라는 사실도 중요하게 배웁니다. 파이썬은 아주 친절한 언어라서 문자가 몇 개든 그냥 문자열 자료형으로 퉁칠 수 있습니다. \n",
    "\n",
    "사실 앞서 ```str.split()```함수에서 나온 나눠진 문자열들은 리스트 형식입니다."
   ]
  },
  {
   "cell_type": "code",
   "execution_count": 28,
   "metadata": {},
   "outputs": [
    {
     "name": "stdout",
     "output_type": "stream",
     "text": [
      "<class 'list'>\n",
      "진\n",
      "다\n"
     ]
    }
   ],
   "source": [
    "text_to_split = '진.짜.겁.나.강.력.합.니.다'\n",
    "text_list = text_to_split.split('.')\n",
    "print(type(text_list))\n",
    "print(text_list[0])\n",
    "print(text_list[-1])\n"
   ]
  },
  {
   "cell_type": "markdown",
   "metadata": {},
   "source": [
    "### 리스트 연산\n",
    "\n",
    "리스트도 문자열처럼 더하기(+)는 합치기(concatenate), 곱하기는 반복입니다.\n",
    "> 리스트끼리 더하고 곱해도 행렬합 행렬곱 안됩니다. 나중에 배울 numpy와 헷갈리면 안됨"
   ]
  },
  {
   "cell_type": "code",
   "execution_count": 29,
   "metadata": {},
   "outputs": [
    {
     "name": "stdout",
     "output_type": "stream",
     "text": [
      "[1, 2, 3, 4, 5, 6]\n",
      "[1, 2, 3, 4, 5, 6, 1, 2, 3, 4, 5, 6, 1, 2, 3, 4, 5, 6]\n"
     ]
    }
   ],
   "source": [
    "a = [1, 2, 3]\n",
    "b = [4, 5 ,6]\n",
    "c = a + b\n",
    "d = c * 3\n",
    "print(c)\n",
    "print(d)\n"
   ]
  },
  {
   "cell_type": "markdown",
   "metadata": {},
   "source": [
    "### 리스트 수정과 삭제\n",
    "\n",
    "리스트의 요소(들)을 수정하려면, 인덱싱이나 슬라이싱 한 뒤 값을 새로 대입하면 됩니다."
   ]
  },
  {
   "cell_type": "code",
   "execution_count": 30,
   "metadata": {},
   "outputs": [
    {
     "name": "stdout",
     "output_type": "stream",
     "text": [
      "[1, 2, 3, 4, 10]\n",
      "[6, 7, 3, 4, 10]\n"
     ]
    }
   ],
   "source": [
    "a = [1, 2, 3, 4 ,5]\n",
    "a[4] = 10\n",
    "print(a)\n",
    "\n",
    "a[:2] = [6, 7] # 대입할때, 좌변과 우변의 list 길이가 같은지 확인!\n",
    "print(a)"
   ]
  },
  {
   "cell_type": "markdown",
   "metadata": {},
   "source": [
    "리스트의 요소(들)을 삭제하려면, ```del```이라는 함수를 사용하면 됩니다."
   ]
  },
  {
   "cell_type": "code",
   "execution_count": 31,
   "metadata": {},
   "outputs": [
    {
     "name": "stdout",
     "output_type": "stream",
     "text": [
      "[1, 2, 3]\n"
     ]
    }
   ],
   "source": [
    "a = [1, 2, 3, 4 ,5]\n",
    "\n",
    "del a[3:]\n",
    "\n",
    "print(a)"
   ]
  },
  {
   "cell_type": "markdown",
   "metadata": {},
   "source": [
    "### 리스트 관련 함수\n",
    "\n",
    "리스트는 파이썬 기본 자료형임에도 불구하고 굉장히 지원하는 함수가 많은데 사실 리스트 자체는 이번 강의에서 별로 안 쓸거라 진짜 중요한 몇개만 꼽겠습니다. 리스트가 중요하다 했으면서 말바꾸는 이유는 어차피 numpy, pandas 패키지 쓸거라서 파이썬 기본 리스트를 가지고 놀 일이 별로 없음 어쩔넘파이 저쩔판다스\n",
    "\n",
    "* ```list.append(x)```: 리스트 마지막에 ```x```를 덧붙임. ```x```의 자료형이 뭐든 상관없음\n",
    "* ```list.sort()```: 리스트를 정렬해줌. 기본값은 오름차순 정렬\n",
    "* ```list.index(x)```: 리스트 안에 ```x```라는 요소가 있으면, ```x```의 인덱스를 반환해줌\n",
    "* ```list.remove(x)```: 리스트 안에 ```x```라는 요소가 있으면, ```x```를 제거. ```x```가 여러 개 있으면 제일 처음에 있는 ```x```제거\n",
    "* ```list.pop()```: 리스트의 마지막 요소를 제거"
   ]
  },
  {
   "cell_type": "code",
   "execution_count": 32,
   "metadata": {},
   "outputs": [
    {
     "name": "stdout",
     "output_type": "stream",
     "text": [
      "[1, 2, 3, 4, 5, 6]\n",
      "[1, 2, 3, 4, 5, 6, [7, 8]]\n"
     ]
    }
   ],
   "source": [
    "a = [1, 2, 3, 4, 5]\n",
    "a.append(6)\n",
    "print(a)\n",
    "a.append([7, 8]) # 주의: 이런다고 a가 [1, 2, 3, 4, 5, 6, 7, 8]이 되지 않는다. 이걸 원한다면 a += [7, 8]을 해야함\n",
    "print(a)"
   ]
  },
  {
   "cell_type": "code",
   "execution_count": 33,
   "metadata": {},
   "outputs": [
    {
     "name": "stdout",
     "output_type": "stream",
     "text": [
      "[1, 2, 3, 4, 5]\n"
     ]
    }
   ],
   "source": [
    "a = [3, 5, 1, 4, 2]\n",
    "a.sort()\n",
    "print(a)"
   ]
  },
  {
   "cell_type": "code",
   "execution_count": 34,
   "metadata": {},
   "outputs": [
    {
     "name": "stdout",
     "output_type": "stream",
     "text": [
      "2\n"
     ]
    }
   ],
   "source": [
    "a = [1, 2, 3, 4, 5]\n",
    "print(a.index(3))"
   ]
  },
  {
   "cell_type": "code",
   "execution_count": 35,
   "metadata": {},
   "outputs": [
    {
     "name": "stdout",
     "output_type": "stream",
     "text": [
      "[2, 3, 2, 1]\n",
      "[2, 3, 2]\n"
     ]
    }
   ],
   "source": [
    "a = [1, 2, 3, 2, 1]\n",
    "a.remove(1)\n",
    "print(a)\n",
    "a.remove(1)\n",
    "print(a)"
   ]
  },
  {
   "cell_type": "code",
   "execution_count": 36,
   "metadata": {},
   "outputs": [
    {
     "name": "stdout",
     "output_type": "stream",
     "text": [
      "[1, 2, 3, 4]\n"
     ]
    }
   ],
   "source": [
    "a = [1, 2, 3, 4, 5]\n",
    "a.pop()\n",
    "print(a)"
   ]
  },
  {
   "cell_type": "markdown",
   "metadata": {},
   "source": [
    "## 튜플\n",
    "\n",
    "튜플(Tuple)은 자료구조의 일종으로, 수학적인 의미는 '그냥 숫자들의 묶음' 정도입니다. 그러니까 숫자로만 이루어진 파이썬 리스트도 수학적 의미의 튜플이고 수학에서 쓰는 벡터의 좌표 표기법도 튜플의 일종입니다. 파이썬 자료형으로서의 튜플은 리스트와 거의 같지만\n",
    "* 튜플은 ```()```로 묶고 리스트는 ```[]```로 묶는다\n",
    "* 튜플은 최초 할당 후 값의 수정이 불가능하다\n",
    "\n",
    "는 점만 다릅니다.\n",
    "\n",
    "얘는 리스트보다 쓸 일 없어서 예시만 빠르게 보여주고 넘어감 (가끔 튜플 자료형이 등장할때가 있어서 설명은 했음)"
   ]
  },
  {
   "cell_type": "code",
   "execution_count": 37,
   "metadata": {},
   "outputs": [
    {
     "name": "stdout",
     "output_type": "stream",
     "text": [
      "<class 'tuple'>\n",
      "('탈론', '카타리나', '키아나')\n",
      "키아나\n",
      "3\n"
     ]
    }
   ],
   "source": [
    "champ_tuple = ('탈론', '카타리나', '키아나')\n",
    "print(type(champ_tuple))\n",
    "print(champ_tuple)\n",
    "print(champ_tuple[2]) # 리스트처럼 접근 가능\n",
    "print(len(champ_tuple)) # len() 함수 사용 가능\n",
    "# champ_tuple[0] = '가렌' # TypeError: 'tuple' object does not support item assignment"
   ]
  },
  {
   "cell_type": "markdown",
   "metadata": {},
   "source": [
    "## 딕셔너리\n",
    "\n",
    "딕셔너리(dictionary)는 리스트와 튜플과 마찬가지로 여러 가지 변수나 리터럴을 담을 수 있지만, **key와 value의 쌍을 이룬다는 특징을 가집니다.**\n",
    "\n",
    "일상생활에서 사전을 사용했던 경험을 떠올려 봅시다. 가령 국어사전에서 '아름답다'의 뜻을 찾기 위해 [표준국어대사전 사이트](https://stdict.korean.go.kr/main/main.do)에 접속하여 '아름답다'라는 키워드(keyword, key)를 검색하면 이에 해당하는 내용(또는 값, value)인 '「형용사」 「1」 보이는 대상이나 음향, 목소리 따위가 균형과 조화를 이루어 눈과 귀에 즐거움과 만족을 줄 만하다.'가 출력될 것입니다. 만약 '아룹답다'라고 오타를 내면 '\"아룹답다\"에 대한 검색 결과가 없습니다.'라며 해당하는 key에 대한 value가 없다고 응답할 것이고 아예 국어사전에 등재되지 않은 단어인 '오진다'를 검색해도 똑같을 것입니다.\n",
    "\n",
    "파이썬의 딕셔너리 자료형도 현실의 사전과 굉장히 유사한 기능을 지닙니다. '아름답다'라는 문자열이 key라면 '「형용사」 「1」 ...'라는 문자열이 value가 되는 것이고 key를 정확하게 알고 있으면 그에 해당하는 value가 존재합니다. 이런 key-value 구조는 자료형 내의 값을 참조하는 방법이 인덱스밖에 없는 리스트와 튜플과는 큰 차이점이 있습니다.\n",
    "\n",
    "파이썬 딕셔너리의 기본 형태는 다음과 같습니다. 리스트는 대괄호[], 튜플은 소괄호(), 딕셔너리는 중괄호{}를 쓴다는 걸 알 수 있습니다.\n",
    "\n",
    "```dict = {key_1: value_1, ..., key_n: value_n}```\n",
    "\n",
    "또한 딕셔너리의 중요한 특징에는\n",
    "* 리스트처럼 요소를 수정할 수 있다\n",
    "* key에는 상수만이 들어갈 수 있으나 value는 어떤 자료형이든 상관없다\n",
    "* key는 중복되면 안 되고 중복될 경우 마지막 key에 해당하는 value만 인정된다\n",
    "\n",
    "정도가 있습니다.\n",
    "\n",
    "> 딕셔너리는 해시 함수를 이용한 자료구조의 일종인 해시 테이블입니다. 해시 함수와 해시 테이블이 궁금하면 [나무위키](https://namu.wiki/w/해시)를 보던가 [이런 영상](https://youtu.be/HraOg7W3VAM)을 보세요\n",
    "\n",
    "다음은 여러가지 딕셔너리의 예시입니다."
   ]
  },
  {
   "cell_type": "code",
   "execution_count": 38,
   "metadata": {},
   "outputs": [
    {
     "name": "stdout",
     "output_type": "stream",
     "text": [
      "B-\n",
      "20000\n"
     ]
    }
   ],
   "source": [
    "grade_dict = {'공학수학': 'B-', '정역학': 'A0', '열역학': 'A-'}\n",
    "info_dict = {'이름': '박동인', '나이': 25, '키': 176, '몸무게': '비공개'} # value들의 자료형이 달라도 됨\n",
    "chinese_dict = {'짜장면': 6000, '짬뽕': 7000, '볶음밥': 7000, '탕수육': {'소': 20000, '중': 25000, '대': 30000}} # 딕셔너리 안에 딕셔너리\n",
    "\n",
    "print(grade_dict['공학수학']) # 딕셔너리는 key로 value를 찾을 수 있음\n",
    "# print(grade_dict[0]) # index로는 절대! 무슨일이 있어도! 못찾음 (KeyError: 0)\n",
    "\n",
    "print(chinese_dict['탕수육']['소']) # 중첩 리스트처럼 생각"
   ]
  },
  {
   "cell_type": "markdown",
   "metadata": {},
   "source": [
    "### 딕셔너리 수정과 삭제\n",
    "딕셔너리에 새로운 key-value 쌍을 추가하거나 기존 쌍을 지우는 방법은 리스트와 비슷합니다. 다만 새로운 쌍은 *그냥 추가해도* 되고, 지우는 건 ```del```함수를 이용합니다."
   ]
  },
  {
   "cell_type": "code",
   "execution_count": 39,
   "metadata": {},
   "outputs": [
    {
     "name": "stdout",
     "output_type": "stream",
     "text": [
      "{'a': 1, 'b': 2, 'c': 3, 'd': 4}\n",
      "{'a': 1, 'b': 2, 'c': 3}\n"
     ]
    }
   ],
   "source": [
    "dict = {'a': 1, 'b': 2, 'c': 3}\n",
    "# 새로운 쌍을 추가하려면 그냥 새로운 key와 value를 입력하면 됨\n",
    "dict['d'] = 4\n",
    "print(dict)\n",
    "\n",
    "# 지우려면\n",
    "del dict['d']\n",
    "print(dict)"
   ]
  },
  {
   "cell_type": "markdown",
   "metadata": {},
   "source": [
    "### 딕셔너리 관련 함수\n",
    "\n",
    "* ```dict.keys()```: 딕셔너리의 key들을 반환\n",
    "* ```dict.values()```: 딕셔너리의 value들을 반환\n",
    "* ```dict.items()```: (key, value) 로 이루어진 튜플들을 반환\n",
    "* ```dict.clear()```: 싹 지우기\n",
    "\n",
    "> 이 함수들은 후에 제어문에서 아주 유용하게 쓰일 것입니다..."
   ]
  },
  {
   "cell_type": "code",
   "execution_count": 40,
   "metadata": {},
   "outputs": [
    {
     "name": "stdout",
     "output_type": "stream",
     "text": [
      "dict_keys(['a', 'b', 'c'])\n",
      "dict_values([1, 2, 3])\n",
      "dict_items([('a', 1), ('b', 2), ('c', 3)])\n",
      "['a', 'b', 'c']\n"
     ]
    }
   ],
   "source": [
    "dict = {'a': 1, 'b': 2, 'c': 3}\n",
    "print(dict.keys()) # 자료형이 처음 보는 타입인데...?\n",
    "print(dict.values())\n",
    "print(dict.items())\n",
    "\n",
    "# 처음 보는 자료형이지만 사실 list랑 거의 똑같아서 list로 형변환 가능\n",
    "temp_list = list(dict.keys())\n",
    "print(temp_list)\n"
   ]
  },
  {
   "cell_type": "markdown",
   "metadata": {},
   "source": [
    "## 논리 자료형과 논리 연산자\n",
    "\n",
    "드디어 마지막 자료형입니다. 논리 자료형 혹은 불리언(boolean) 자료형은 참(```True```)과 거짓(```False```), 오직 두 개의 리터럴 값만을 가집니다(대소문자 구분 주의).\n",
    "\n",
    "> ```True```와 ```False```같이 숫자는 아닌데 따옴표가 없어서 문자열도 아닌 변수들이 있습니다. 이들은 파이썬 내장 상수로써 파이썬에 내재되어있는 상수라고 생각하면 됩니다. 이 둘 외에는 ```None``` 이라는 상수도 있는데, C계열 언어의 ```Null```에 해당됩니다. ```None```에 대해서는 나중에 다시 설명하겠습니다.\n",
    "\n",
    "논리 자료형은 나중에 설명할 제어문의 핵심이기도 합니다. 제어문 내에서 논리값이 참이냐 거짓이냐 따라 특정 기능을 실행할 수도, 실행하지 않을 수도 있습니다. 논리 자료형은 다음과 같이 초기화할 수 있습니다."
   ]
  },
  {
   "cell_type": "code",
   "execution_count": 41,
   "metadata": {},
   "outputs": [
    {
     "name": "stdout",
     "output_type": "stream",
     "text": [
      "<class 'bool'>\n",
      "<class 'bool'>\n"
     ]
    }
   ],
   "source": [
    "a = True\n",
    "b = False\n",
    "print(type(a))\n",
    "print(type(b))"
   ]
  },
  {
   "cell_type": "markdown",
   "metadata": {},
   "source": [
    "논리 자료형은 변수에 직접 할당하여 사용자가 능동적으로 활용하기보다는, 프로그램 알고리즘 상 참/거짓 구별이 필요한 오만가지 상황에서 수동적으로 사용하는 경우가 많습니다. 참/거짓을 판별할 수 있는 기준을 제공해주는 논리 자료형을 반환하는 함수는 수없이 많지만 결국 제일 기초적인 상황은 논리 연산자(boolean operator)에서부터 나옵니다. 기초적인 논리 연산자는 다음과 같은 것들이 있습니다.\n",
    "\n",
    "* ```==, !=```: 두 변수의 값이 같다/같지 않다\n",
    "* ```<, >```: 왼쪽 변수의 값이 오른쪽 변수보다 작다/크다\n",
    "* ```<=, >=```: 왼쪽 변수의 값이 오른쪽 변수보다 작거나 같다/크거나 같다\n"
   ]
  },
  {
   "cell_type": "code",
   "execution_count": 42,
   "metadata": {},
   "outputs": [
    {
     "name": "stdout",
     "output_type": "stream",
     "text": [
      "True\n",
      "True\n",
      "True\n",
      "False\n"
     ]
    }
   ],
   "source": [
    "print(5 > 3)\n",
    "print(3 != 5)\n",
    "print(42 >= 30)\n",
    "print(1.1 + 0.1 == 1.2) # 왜 False인지 모르겠으면 '부동소수점 자료형' 파트에 가 보세요."
   ]
  },
  {
   "cell_type": "markdown",
   "metadata": {},
   "source": [
    "* ```not a```: ```a```의 논리값을 반대로 함\n",
    "* ```a and b```: ```a```와 ```b```가 모두 ```True```이면 ```True``` 반환, 그 외에는 ```False```\n",
    "* ```a or b```: ```a``` 또는 ```b``` 둘 중 하나라도 ```True```이면 ```True``` 반환. 둘 다 ```False```여야 ```False``` 반환\n",
    "\n",
    "> C 계열 언어에서는 ```not x```가 아니라 ```!x```, ```and```는 ```&&```, ```or```는 ```||```로 표기하는데, 파이썬에 이런 C 스타일 논리 연산자는 없습니다.\n",
    "\n",
    "> ```&, |, ^``` 기호는 논리 연산자가 아니라 비트 연산자입니다. 비트 연산자는 정말 다룰 일이 없기에 강의에서 다루지 않았습니다."
   ]
  },
  {
   "cell_type": "code",
   "execution_count": 43,
   "metadata": {},
   "outputs": [
    {
     "name": "stdout",
     "output_type": "stream",
     "text": [
      "False\n",
      "True\n",
      "False\n"
     ]
    }
   ],
   "source": [
    "print(not True)\n",
    "print((5 > 3) and (4 < 8)) # True and True 이므로 True\n",
    "# 등호/부등호 계열 논리 연산자가 not/and/or 논리 연산자보다 계산순위가 앞서기 때문에 아래 표현처럼 괄호가 없어도 됩니다\n",
    "print(3 == 4 or 2 > 3) # False or False 이므로 False"
   ]
  },
  {
   "cell_type": "markdown",
   "metadata": {},
   "source": [
    "다른 자료형들도 참/거짓이 있습니다. 예를 들면\n",
    "\n",
    "* 숫자 0은 ```False```, 나머지 모든 숫자는 ```True``` (대부분의 프로그래밍 언어에서도 마찬가지)\n",
    "* 빈 문자열 ```''```은 ```False```, 비어 있지 않은 문자열은 ```True```\n",
    "* 빈 리스트/튜플/딕셔너리 ```[], (), {}```는 ```False```, 비어 있지 않으면 ```True```\n",
    "* ```None```은 ```False``` (왜?)\n",
    "\n",
    "등등이 있습니다. 파이썬 기본 함수 ```bool()```을 통해 참/거짓을 알 수 있습니다."
   ]
  },
  {
   "cell_type": "code",
   "execution_count": 44,
   "metadata": {},
   "outputs": [
    {
     "name": "stdout",
     "output_type": "stream",
     "text": [
      "False\n",
      "True\n",
      "False\n",
      "True\n",
      "False\n",
      "True\n",
      "False\n"
     ]
    }
   ],
   "source": [
    "print(bool(0))\n",
    "print(bool(123716))\n",
    "\n",
    "print(bool(''))\n",
    "print(bool('엄준식'))\n",
    "\n",
    "print(bool([]))\n",
    "print(bool([1, 2, 3]))\n",
    "\n",
    "print(bool(None))"
   ]
  }
 ],
 "metadata": {
  "kernelspec": {
   "display_name": "Python 3.9.12 ('base')",
   "language": "python",
   "name": "python3"
  },
  "language_info": {
   "codemirror_mode": {
    "name": "ipython",
    "version": 3
   },
   "file_extension": ".py",
   "mimetype": "text/x-python",
   "name": "python",
   "nbconvert_exporter": "python",
   "pygments_lexer": "ipython3",
   "version": "3.9.12"
  },
  "orig_nbformat": 4,
  "vscode": {
   "interpreter": {
    "hash": "3d39570b89774e8c56601dc1283c82d3493762af8fc9b838ccc16c75e65bef38"
   }
  }
 },
 "nbformat": 4,
 "nbformat_minor": 2
}
